{
 "cells": [
  {
   "cell_type": "code",
   "execution_count": 7,
   "metadata": {},
   "outputs": [
    {
     "name": "stderr",
     "output_type": "stream",
     "text": [
      "[nltk_data] Downloading package wordnet to\n",
      "[nltk_data]     C:\\Users\\97272\\AppData\\Roaming\\nltk_data...\n",
      "[nltk_data]   Package wordnet is already up-to-date!\n",
      "[nltk_data] Downloading package omw to\n",
      "[nltk_data]     C:\\Users\\97272\\AppData\\Roaming\\nltk_data...\n",
      "[nltk_data]   Package omw is already up-to-date!\n",
      "[nltk_data] Downloading package stopwords to\n",
      "[nltk_data]     C:\\Users\\97272\\AppData\\Roaming\\nltk_data...\n",
      "[nltk_data]   Package stopwords is already up-to-date!\n"
     ]
    },
    {
     "data": {
      "text/plain": [
       "True"
      ]
     },
     "execution_count": 7,
     "metadata": {},
     "output_type": "execute_result"
    }
   ],
   "source": [
    "import pandas as pd\n",
    "import EDA\n",
    "from tqdm import tqdm\n",
    "from EDA import eda\n",
    "import random\n",
    "import nltk\n",
    "nltk.download('wordnet')\n",
    "nltk.download('omw')\n",
    "nltk.download('stopwords')"
   ]
  },
  {
   "cell_type": "code",
   "execution_count": 8,
   "metadata": {},
   "outputs": [
    {
     "name": "stdout",
     "output_type": "stream",
     "text": [
      "{'brillo', 'lucir', 'radiancia espectral', 'relucir', 'resplandor', 'relumbrar', 'esplendor', 'resplandecer', 'brillar', 'reflejar'}\n"
     ]
    }
   ],
   "source": [
    "from nltk.corpus import wordnet\n",
    "synonyms = set()\n",
    "word = 'shine'\n",
    "if wordnet.synsets(word):\n",
    "    for syn in wordnet.synsets(word):\n",
    "        for l in syn.lemma_names('spa'):\n",
    "            synonym = l.replace('_', \" \").lower()\n",
    "            synonym = \"\".join([char for char in synonym if (char.isalpha() or char == ' ')])\n",
    "            synonyms.add(synonym)\n",
    "if word in synonyms:\n",
    "    synonyms.remove(word)\n",
    "print(synonyms)"
   ]
  },
  {
   "cell_type": "code",
   "execution_count": 9,
   "metadata": {},
   "outputs": [
    {
     "data": {
      "text/plain": [
       "['contraria a anular el título de un estudiante de un centro privado que obtuvo el módulo Técnico Superior en Higiene Bucodental sin acudir a claseEl Consejo',\n",
       " 'a anular el título de un estudiante privado que obtuvo el módulo de Técnico Superior en Higiene Bucodental sin acudir a claseEl',\n",
       " 'contraria a anular el título de un estudiante de un centro privado que obtuvo el módulo de Técnico Superior en Higiene Bucodental sin acudir a claseEl Consejo',\n",
       " 'contraria a anular el título de un estudiante de un centro privado que obtuvo el módulo de Técnico superior en Higiene Bucodental sin acudir a claseEl Consejo',\n",
       " 'contraria a anular el título de un estudiante de un centro privado que obtuvo el módulo de Técnico Superior en Higiene Bucodental sin acudir a claseEl Consejo ']"
      ]
     },
     "execution_count": 9,
     "metadata": {},
     "output_type": "execute_result"
    }
   ],
   "source": [
    "eda(' contraria a anular el título de un estudiante de un centro privado que obtuvo el módulo de Técnico Superior en Higiene Bucodental sin acudir a claseEl Consejo ')"
   ]
  },
  {
   "cell_type": "code",
   "execution_count": 10,
   "metadata": {},
   "outputs": [],
   "source": [
    "df = pd.read_json('data/elmoundo_1108.json')"
   ]
  },
  {
   "cell_type": "code",
   "execution_count": 11,
   "metadata": {},
   "outputs": [
    {
     "data": {
      "text/html": [
       "<div>\n",
       "<style scoped>\n",
       "    .dataframe tbody tr th:only-of-type {\n",
       "        vertical-align: middle;\n",
       "    }\n",
       "\n",
       "    .dataframe tbody tr th {\n",
       "        vertical-align: top;\n",
       "    }\n",
       "\n",
       "    .dataframe thead th {\n",
       "        text-align: right;\n",
       "    }\n",
       "</style>\n",
       "<table border=\"1\" class=\"dataframe\">\n",
       "  <thead>\n",
       "    <tr style=\"text-align: right;\">\n",
       "      <th></th>\n",
       "      <th>category</th>\n",
       "      <th>content</th>\n",
       "    </tr>\n",
       "  </thead>\n",
       "  <tbody>\n",
       "    <tr>\n",
       "      <th>0</th>\n",
       "      <td>internacional</td>\n",
       "      <td>Rusia cierra su embajada ante la OTAN y echará...</td>\n",
       "    </tr>\n",
       "    <tr>\n",
       "      <th>1</th>\n",
       "      <td>internacional</td>\n",
       "      <td>Rusia ha decidido suspender la labor de su emb...</td>\n",
       "    </tr>\n",
       "    <tr>\n",
       "      <th>2</th>\n",
       "      <td>internacional</td>\n",
       "      <td>\"En respuesta a las acciones de la OTAN, suspe...</td>\n",
       "    </tr>\n",
       "    <tr>\n",
       "      <th>3</th>\n",
       "      <td>internacional</td>\n",
       "      <td>\"Si los miembros de la OTAN tienen algún asunt...</td>\n",
       "    </tr>\n",
       "    <tr>\n",
       "      <th>4</th>\n",
       "      <td>internacional</td>\n",
       "      <td>Este 'portazo' de los rusos tendrá efectos fue...</td>\n",
       "    </tr>\n",
       "    <tr>\n",
       "      <th>5</th>\n",
       "      <td>internacional</td>\n",
       "      <td>Corea del Norte lanza un misil balístico desde...</td>\n",
       "    </tr>\n",
       "    <tr>\n",
       "      <th>6</th>\n",
       "      <td>internacional</td>\n",
       "      <td>Corea del Norte disparó al mar un misil balíst...</td>\n",
       "    </tr>\n",
       "    <tr>\n",
       "      <th>7</th>\n",
       "      <td>internacional</td>\n",
       "      <td>Así avanza la vacunación contra el Covid-19 en...</td>\n",
       "    </tr>\n",
       "    <tr>\n",
       "      <th>8</th>\n",
       "      <td>internacional</td>\n",
       "      <td>A día de hoy, más de 3.749 millones de habita...</td>\n",
       "    </tr>\n",
       "    <tr>\n",
       "      <th>9</th>\n",
       "      <td>internacional</td>\n",
       "      <td>El mundo está embarcado en un proceso de vacun...</td>\n",
       "    </tr>\n",
       "  </tbody>\n",
       "</table>\n",
       "</div>"
      ],
      "text/plain": [
       "        category                                            content\n",
       "0  internacional  Rusia cierra su embajada ante la OTAN y echará...\n",
       "1  internacional  Rusia ha decidido suspender la labor de su emb...\n",
       "2  internacional  \"En respuesta a las acciones de la OTAN, suspe...\n",
       "3  internacional  \"Si los miembros de la OTAN tienen algún asunt...\n",
       "4  internacional  Este 'portazo' de los rusos tendrá efectos fue...\n",
       "5  internacional  Corea del Norte lanza un misil balístico desde...\n",
       "6  internacional  Corea del Norte disparó al mar un misil balíst...\n",
       "7  internacional  Así avanza la vacunación contra el Covid-19 en...\n",
       "8  internacional   A día de hoy, más de 3.749 millones de habita...\n",
       "9  internacional  El mundo está embarcado en un proceso de vacun..."
      ]
     },
     "execution_count": 11,
     "metadata": {},
     "output_type": "execute_result"
    }
   ],
   "source": [
    "df.head(10)"
   ]
  },
  {
   "cell_type": "code",
   "execution_count": 17,
   "metadata": {},
   "outputs": [],
   "source": [
    "content = df['content']\n",
    "category = df['category']"
   ]
  },
  {
   "cell_type": "code",
   "execution_count": 14,
   "metadata": {},
   "outputs": [],
   "source": [
    "category_dic = {}\n",
    "for idx,cate in enumerate(list(set(df['category']))):\n",
    "    category_dic[cate] = idx"
   ]
  },
  {
   "cell_type": "code",
   "execution_count": 15,
   "metadata": {},
   "outputs": [
    {
     "data": {
      "text/plain": [
       "{'economia': 0,\n",
       " 'cultura': 1,\n",
       " 'television': 2,\n",
       " 'tecnologia': 3,\n",
       " 'internacional': 4,\n",
       " 'ciencia-y-salud': 5,\n",
       " 'deportes': 6}"
      ]
     },
     "execution_count": 15,
     "metadata": {},
     "output_type": "execute_result"
    }
   ],
   "source": [
    "category_dic"
   ]
  },
  {
   "cell_type": "code",
   "execution_count": 18,
   "metadata": {},
   "outputs": [
    {
     "name": "stdout",
     "output_type": "stream",
     "text": [
      "economia:6954\n",
      "cultura:5689\n",
      "television:1251\n",
      "tecnologia:870\n",
      "internacional:592\n",
      "ciencia-y-salud:754\n",
      "deportes:6264\n",
      "total: 22374\n",
      "max_cate:6954\n",
      "min_cate:592\n",
      "[6954, 5689, 1251, 870, 592, 754, 6264]\n"
     ]
    }
   ],
   "source": [
    "total = 0\n",
    "maxl,minl = 0,100000\n",
    "dic_count = []\n",
    "for ca in category_dic.keys():\n",
    "    cur_len = len([i for i in category if i==ca])\n",
    "    print('{}:{}'.format(ca,cur_len))\n",
    "    maxl,minl = max(maxl,cur_len),min(minl,cur_len)\n",
    "    dic_count.append(cur_len)\n",
    "    total += cur_len\n",
    "print('total:',total)\n",
    "print('max_cate:{}\\nmin_cate:{}'.format(maxl,minl))\n",
    "print(dic_count)"
   ]
  },
  {
   "cell_type": "markdown",
   "metadata": {},
   "source": [
    "#### find a proper increase num_aug"
   ]
  },
  {
   "cell_type": "code",
   "execution_count": 19,
   "metadata": {},
   "outputs": [
    {
     "name": "stdout",
     "output_type": "stream",
     "text": [
      "0 6954 1.838530753112289\n",
      "1 5689 2.2473444994098886\n",
      "2 1251 10.21993833504625\n",
      "3 870 14.695566502463054\n",
      "4 592 21.596525096525095\n",
      "5 754 16.956422887457368\n",
      "6 6264 2.041050903119869\n"
     ]
    }
   ],
   "source": [
    "for ca in category_dic.keys():\n",
    "    p = 4/(dic_count[category_dic[ca]]/(sum(dic_count)/len(dic_count)))\n",
    "    print(category_dic[ca],dic_count[category_dic[ca]],p)"
   ]
  },
  {
   "cell_type": "code",
   "execution_count": 24,
   "metadata": {},
   "outputs": [],
   "source": [
    "augumented_news = [[],[]]"
   ]
  },
  {
   "cell_type": "code",
   "execution_count": 25,
   "metadata": {},
   "outputs": [
    {
     "name": "stderr",
     "output_type": "stream",
     "text": [
      "22374it [07:39, 48.66it/s]\n"
     ]
    }
   ],
   "source": [
    "for cate,cont in tqdm(zip(category,content)):\n",
    "    if len(cont)>30:\n",
    "        p = 4/(dic_count[category_dic[ca]]/(sum(dic_count)/len(dic_count)))\n",
    "        new_conts = eda(cont,num_aug=max(6,int(p)))\n",
    "        for new_cont in new_conts:\n",
    "            augumented_news[0].append(cate)\n",
    "            augumented_news[1].append(new_cont)\n",
    "    else:\n",
    "        augumented_news[0].append(cate)\n",
    "        augumented_news[1].append(cont)"
   ]
  },
  {
   "cell_type": "code",
   "execution_count": 26,
   "metadata": {},
   "outputs": [
    {
     "data": {
      "text/plain": [
       "152356"
      ]
     },
     "execution_count": 26,
     "metadata": {},
     "output_type": "execute_result"
    }
   ],
   "source": [
    "len(augumented_news[0])"
   ]
  },
  {
   "cell_type": "code",
   "execution_count": 27,
   "metadata": {},
   "outputs": [
    {
     "name": "stdout",
     "output_type": "stream",
     "text": [
      "economia:47264\n",
      "cultura:38699\n",
      "television:8516\n",
      "tecnologia:5966\n",
      "internacional:4067\n",
      "ciencia-y-salud:5101\n",
      "deportes:42743\n",
      "total: 152356\n",
      "max_cate:47264\n",
      "min_cate:4067\n",
      "[47264, 38699, 8516, 5966, 4067, 5101, 42743]\n"
     ]
    }
   ],
   "source": [
    "total = 0\n",
    "maxl,minl = 0,100000\n",
    "dic_count = []\n",
    "for ca in category_dic.keys():\n",
    "    cur_len = len([i for i in augumented_news[0] if i==ca])\n",
    "    print('{}:{}'.format(ca,cur_len))\n",
    "    maxl,minl = max(maxl,cur_len),min(minl,cur_len)\n",
    "    dic_count.append(cur_len)\n",
    "    total += cur_len\n",
    "print('total:',total)\n",
    "print('max_cate:{}\\nmin_cate:{}'.format(maxl,minl))\n",
    "print(dic_count)"
   ]
  },
  {
   "cell_type": "code",
   "execution_count": 28,
   "metadata": {},
   "outputs": [],
   "source": [
    "shuffle_idx = [i for i in range(0,len(augumented_news[0]))]\n",
    "random.shuffle(shuffle_idx)\n",
    "shuffled_data = [[],[],[]]\n",
    "for idx in shuffle_idx:\n",
    "    shuffled_data[0].append(augumented_news[0][idx])\n",
    "    shuffled_data[1].append(augumented_news[1][idx])    "
   ]
  },
  {
   "cell_type": "code",
   "execution_count": 29,
   "metadata": {},
   "outputs": [],
   "source": [
    "augmented_df = {\n",
    "    'category':shuffled_data[0],\n",
    "    'content':shuffled_data[1]\n",
    "}"
   ]
  },
  {
   "cell_type": "code",
   "execution_count": 30,
   "metadata": {},
   "outputs": [],
   "source": [
    "augmented_df = pd.DataFrame(data=augmented_df)"
   ]
  },
  {
   "cell_type": "code",
   "execution_count": 31,
   "metadata": {},
   "outputs": [
    {
     "data": {
      "text/plain": [
       "0            cultura\n",
       "1    ciencia-y-salud\n",
       "2    ciencia-y-salud\n",
       "3           economia\n",
       "4           economia\n",
       "5           deportes\n",
       "6            cultura\n",
       "7           economia\n",
       "8            cultura\n",
       "9            cultura\n",
       "Name: category, dtype: object"
      ]
     },
     "execution_count": 31,
     "metadata": {},
     "output_type": "execute_result"
    }
   ],
   "source": [
    "augmented_df['category'].head(10)"
   ]
  },
  {
   "cell_type": "code",
   "execution_count": 33,
   "metadata": {},
   "outputs": [],
   "source": [
    "augmented_df.to_json('data/augmented_elmundo_slice.json')"
   ]
  },
  {
   "cell_type": "code",
   "execution_count": null,
   "metadata": {},
   "outputs": [],
   "source": []
  }
 ],
 "metadata": {
  "kernelspec": {
   "display_name": "Python 3",
   "language": "python",
   "name": "python3"
  },
  "language_info": {
   "codemirror_mode": {
    "name": "ipython",
    "version": 3
   },
   "file_extension": ".py",
   "mimetype": "text/x-python",
   "name": "python",
   "nbconvert_exporter": "python",
   "pygments_lexer": "ipython3",
   "version": "3.7.9"
  }
 },
 "nbformat": 4,
 "nbformat_minor": 4
}
