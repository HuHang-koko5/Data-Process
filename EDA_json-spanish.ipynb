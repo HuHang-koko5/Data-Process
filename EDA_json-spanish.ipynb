{
 "cells": [
  {
   "cell_type": "code",
   "execution_count": 15,
   "metadata": {},
   "outputs": [
    {
     "name": "stderr",
     "output_type": "stream",
     "text": [
      "[nltk_data] Downloading package wordnet to /home/hu/nltk_data...\n",
      "[nltk_data]   Package wordnet is already up-to-date!\n",
      "[nltk_data] Downloading package omw to /home/hu/nltk_data...\n",
      "[nltk_data]   Package omw is already up-to-date!\n",
      "[nltk_data] Downloading package stopwords to /home/hu/nltk_data...\n",
      "[nltk_data]   Package stopwords is already up-to-date!\n"
     ]
    },
    {
     "data": {
      "text/plain": [
       "True"
      ]
     },
     "execution_count": 15,
     "metadata": {},
     "output_type": "execute_result"
    }
   ],
   "source": [
    "import pandas as pd\n",
    "from EDAesp import *\n",
    "from tqdm import tqdm\n",
    "import random\n",
    "import nltk\n",
    "nltk.download('wordnet')\n",
    "nltk.download('omw')\n",
    "nltk.download('stopwords')"
   ]
  },
  {
   "cell_type": "code",
   "execution_count": 16,
   "metadata": {},
   "outputs": [
    {
     "name": "stdout",
     "output_type": "stream",
     "text": [
      "{'lucir', 'resplandor', 'reflejar', 'brillar', 'radiancia espectral', 'relucir', 'resplandecer', 'brillo', 'esplendor', 'relumbrar'}\n"
     ]
    }
   ],
   "source": [
    "from nltk.corpus import wordnet\n",
    "synonyms = set()\n",
    "word = 'shine'\n",
    "if wordnet.synsets(word):\n",
    "    for syn in wordnet.synsets(word):\n",
    "        for l in syn.lemma_names('spa'):\n",
    "            synonym = l.replace('_', \" \").lower()\n",
    "            synonym = \"\".join([char for char in synonym if (char.isalpha() or char == ' ')])\n",
    "            synonyms.add(synonym)\n",
    "if word in synonyms:\n",
    "    synonyms.remove(word)\n",
    "print(synonyms)"
   ]
  },
  {
   "cell_type": "code",
   "execution_count": 17,
   "metadata": {},
   "outputs": [
    {
     "data": {
      "text/plain": [
       "['contraria a anular el título de un estudiante de un centro privado que obtuvo el módulo de Técnico Superior en Higiene Bucodental sin acudir a claseEl Consejo ',\n",
       " 'elevation contraria a anular el título de un estudiante de un centro privado que obtuvo el módulo de elevated railroad Técnico Superior en Higiene Bucodental sin acudir a claseEl Consejo',\n",
       " 'contraria a anular el título de un estudiante de un centro privado que obtuvo el módulo de Técnico Superior en Higiene Bucodental sin acudir a claseEl Consejo',\n",
       " 'contraria a anular el título de un estudiante de un centro privado que obtuvo el módulo de Técnico superscript en Higiene Bucodental sin acudir a claseEl Consejo',\n",
       " 'contraria a anular el título de un estudiante de un centro privado que obtuvo el módulo de Técnico Superior en Higiene Bucodental sin united nations diamond state acudir a claseEl Consejo']"
      ]
     },
     "execution_count": 17,
     "metadata": {},
     "output_type": "execute_result"
    }
   ],
   "source": [
    "eda(' contraria a anular el título de un estudiante de un centro privado que obtuvo el módulo de Técnico Superior en Higiene Bucodental sin acudir a claseEl Consejo ')"
   ]
  },
  {
   "cell_type": "code",
   "execution_count": 18,
   "metadata": {},
   "outputs": [],
   "source": [
    "df = pd.read_json('data/elmoundo_1124.json')"
   ]
  },
  {
   "cell_type": "code",
   "execution_count": 19,
   "metadata": {},
   "outputs": [
    {
     "data": {
      "text/html": [
       "<div>\n",
       "<style scoped>\n",
       "    .dataframe tbody tr th:only-of-type {\n",
       "        vertical-align: middle;\n",
       "    }\n",
       "\n",
       "    .dataframe tbody tr th {\n",
       "        vertical-align: top;\n",
       "    }\n",
       "\n",
       "    .dataframe thead th {\n",
       "        text-align: right;\n",
       "    }\n",
       "</style>\n",
       "<table border=\"1\" class=\"dataframe\">\n",
       "  <thead>\n",
       "    <tr style=\"text-align: right;\">\n",
       "      <th></th>\n",
       "      <th>category</th>\n",
       "      <th>content</th>\n",
       "    </tr>\n",
       "  </thead>\n",
       "  <tbody>\n",
       "    <tr>\n",
       "      <th>0</th>\n",
       "      <td>internacional</td>\n",
       "      <td>Rusia cierra su embajada ante la OTAN y echará...</td>\n",
       "    </tr>\n",
       "    <tr>\n",
       "      <th>1</th>\n",
       "      <td>internacional</td>\n",
       "      <td>Rusia ha decidido suspender la labor de su emb...</td>\n",
       "    </tr>\n",
       "    <tr>\n",
       "      <th>2</th>\n",
       "      <td>internacional</td>\n",
       "      <td>\"En respuesta a las acciones de la OTAN, suspe...</td>\n",
       "    </tr>\n",
       "    <tr>\n",
       "      <th>3</th>\n",
       "      <td>internacional</td>\n",
       "      <td>\"Si los miembros de la OTAN tienen algún asunt...</td>\n",
       "    </tr>\n",
       "    <tr>\n",
       "      <th>4</th>\n",
       "      <td>internacional</td>\n",
       "      <td>Este 'portazo' de los rusos tendrá efectos fue...</td>\n",
       "    </tr>\n",
       "    <tr>\n",
       "      <th>5</th>\n",
       "      <td>internacional</td>\n",
       "      <td>Corea del Norte lanza un misil balístico desde...</td>\n",
       "    </tr>\n",
       "    <tr>\n",
       "      <th>6</th>\n",
       "      <td>internacional</td>\n",
       "      <td>Corea del Norte disparó al mar un misil balíst...</td>\n",
       "    </tr>\n",
       "    <tr>\n",
       "      <th>7</th>\n",
       "      <td>internacional</td>\n",
       "      <td>Así avanza la vacunación contra el Covid-19 en...</td>\n",
       "    </tr>\n",
       "    <tr>\n",
       "      <th>8</th>\n",
       "      <td>internacional</td>\n",
       "      <td>A día de hoy, más de 3.749 millones de habita...</td>\n",
       "    </tr>\n",
       "    <tr>\n",
       "      <th>9</th>\n",
       "      <td>internacional</td>\n",
       "      <td>El mundo está embarcado en un proceso de vacun...</td>\n",
       "    </tr>\n",
       "  </tbody>\n",
       "</table>\n",
       "</div>"
      ],
      "text/plain": [
       "        category                                            content\n",
       "0  internacional  Rusia cierra su embajada ante la OTAN y echará...\n",
       "1  internacional  Rusia ha decidido suspender la labor de su emb...\n",
       "2  internacional  \"En respuesta a las acciones de la OTAN, suspe...\n",
       "3  internacional  \"Si los miembros de la OTAN tienen algún asunt...\n",
       "4  internacional  Este 'portazo' de los rusos tendrá efectos fue...\n",
       "5  internacional  Corea del Norte lanza un misil balístico desde...\n",
       "6  internacional  Corea del Norte disparó al mar un misil balíst...\n",
       "7  internacional  Así avanza la vacunación contra el Covid-19 en...\n",
       "8  internacional   A día de hoy, más de 3.749 millones de habita...\n",
       "9  internacional  El mundo está embarcado en un proceso de vacun..."
      ]
     },
     "execution_count": 19,
     "metadata": {},
     "output_type": "execute_result"
    }
   ],
   "source": [
    "df.head(10)"
   ]
  },
  {
   "cell_type": "code",
   "execution_count": 20,
   "metadata": {},
   "outputs": [],
   "source": [
    "content = df['content']\n",
    "category = df['category']"
   ]
  },
  {
   "cell_type": "code",
   "execution_count": 21,
   "metadata": {},
   "outputs": [],
   "source": [
    "category_dic = {}\n",
    "for idx,cate in enumerate(list(set(df['category']))):\n",
    "    category_dic[cate] = idx"
   ]
  },
  {
   "cell_type": "code",
   "execution_count": 22,
   "metadata": {},
   "outputs": [
    {
     "data": {
      "text/plain": [
       "{'cultura': 0,\n",
       " 'internacional': 1,\n",
       " 'tecnologia': 2,\n",
       " 'deportes': 3,\n",
       " 'economia': 4,\n",
       " 'ciencia-y-salud': 5,\n",
       " 'television': 6}"
      ]
     },
     "execution_count": 22,
     "metadata": {},
     "output_type": "execute_result"
    }
   ],
   "source": [
    "category_dic"
   ]
  },
  {
   "cell_type": "code",
   "execution_count": 23,
   "metadata": {},
   "outputs": [
    {
     "name": "stdout",
     "output_type": "stream",
     "text": [
      "cultura:7652\n",
      "internacional:898\n",
      "tecnologia:992\n",
      "deportes:7681\n",
      "economia:7682\n",
      "ciencia-y-salud:1137\n",
      "television:2024\n",
      "total: 28066\n",
      "max_cate:7682\n",
      "min_cate:898\n",
      "[7652, 898, 992, 7681, 7682, 1137, 2024]\n"
     ]
    }
   ],
   "source": [
    "total = 0\n",
    "maxl,minl = 0,100000\n",
    "dic_count = []\n",
    "for ca in category_dic.keys():\n",
    "    cur_len = len([i for i in category if i==ca])\n",
    "    print('{}:{}'.format(ca,cur_len))\n",
    "    maxl,minl = max(maxl,cur_len),min(minl,cur_len)\n",
    "    dic_count.append(cur_len)\n",
    "    total += cur_len\n",
    "print('total:',total)\n",
    "print('max_cate:{}\\nmin_cate:{}'.format(maxl,minl))\n",
    "print(dic_count)"
   ]
  },
  {
   "cell_type": "markdown",
   "metadata": {},
   "source": [
    "#### find a proper increase num_aug"
   ]
  },
  {
   "cell_type": "code",
   "execution_count": 24,
   "metadata": {},
   "outputs": [
    {
     "name": "stdout",
     "output_type": "stream",
     "text": [
      "0 7652 2.0958852960943917\n",
      "1 898 17.859370028635063\n",
      "2 992 16.167050691244242\n",
      "3 7681 2.0879721762419328\n",
      "4 7682 2.0877003756462233\n",
      "5 1137 14.105289609247395\n",
      "6 2024 7.923771880293619\n"
     ]
    }
   ],
   "source": [
    "for ca in category_dic.keys():\n",
    "    p = 4/(dic_count[category_dic[ca]]/(sum(dic_count)/len(dic_count)))\n",
    "    print(category_dic[ca],dic_count[category_dic[ca]],p)"
   ]
  },
  {
   "cell_type": "code",
   "execution_count": 25,
   "metadata": {},
   "outputs": [],
   "source": [
    "augumented_news = [[],[]]"
   ]
  },
  {
   "cell_type": "code",
   "execution_count": 26,
   "metadata": {},
   "outputs": [
    {
     "name": "stderr",
     "output_type": "stream",
     "text": [
      "28066it [04:17, 109.20it/s]\n"
     ]
    }
   ],
   "source": [
    "for cate,cont in tqdm(zip(category,content)):\n",
    "    if len(cont)>30:\n",
    "        p = 4/(dic_count[category_dic[ca]]/(sum(dic_count)/len(dic_count)))\n",
    "        new_conts = eda(cont,num_aug=max(6,int(p)))\n",
    "        for new_cont in new_conts:\n",
    "            augumented_news[0].append(cate)\n",
    "            augumented_news[1].append(new_cont)\n",
    "    else:\n",
    "        augumented_news[0].append(cate)\n",
    "        augumented_news[1].append(cont)"
   ]
  },
  {
   "cell_type": "code",
   "execution_count": 27,
   "metadata": {},
   "outputs": [
    {
     "data": {
      "text/plain": [
       "214806"
      ]
     },
     "execution_count": 27,
     "metadata": {},
     "output_type": "execute_result"
    }
   ],
   "source": [
    "len(augumented_news[0])"
   ]
  },
  {
   "cell_type": "code",
   "execution_count": 28,
   "metadata": {},
   "outputs": [
    {
     "name": "stdout",
     "output_type": "stream",
     "text": [
      "cultura:58597\n",
      "internacional:6910\n",
      "tecnologia:7633\n",
      "deportes:59022\n",
      "economia:58516\n",
      "ciencia-y-salud:8685\n",
      "television:15443\n",
      "total: 214806\n",
      "max_cate:59022\n",
      "min_cate:6910\n",
      "[58597, 6910, 7633, 59022, 58516, 8685, 15443]\n"
     ]
    }
   ],
   "source": [
    "total = 0\n",
    "maxl,minl = 0,100000\n",
    "dic_count = []\n",
    "for ca in category_dic.keys():\n",
    "    cur_len = len([i for i in augumented_news[0] if i==ca])\n",
    "    print('{}:{}'.format(ca,cur_len))\n",
    "    maxl,minl = max(maxl,cur_len),min(minl,cur_len)\n",
    "    dic_count.append(cur_len)\n",
    "    total += cur_len\n",
    "print('total:',total)\n",
    "print('max_cate:{}\\nmin_cate:{}'.format(maxl,minl))\n",
    "print(dic_count)"
   ]
  },
  {
   "cell_type": "code",
   "execution_count": 29,
   "metadata": {},
   "outputs": [],
   "source": [
    "shuffle_idx = [i for i in range(0,len(augumented_news[0]))]\n",
    "random.shuffle(shuffle_idx)\n",
    "shuffled_data = [[],[],[]]\n",
    "for idx in shuffle_idx:\n",
    "    shuffled_data[0].append(augumented_news[0][idx])\n",
    "    shuffled_data[1].append(augumented_news[1][idx])    "
   ]
  },
  {
   "cell_type": "code",
   "execution_count": 30,
   "metadata": {},
   "outputs": [],
   "source": [
    "augmented_df = {\n",
    "    'category':shuffled_data[0],\n",
    "    'content':shuffled_data[1]\n",
    "}"
   ]
  },
  {
   "cell_type": "code",
   "execution_count": 31,
   "metadata": {},
   "outputs": [],
   "source": [
    "augmented_df = pd.DataFrame(data=augmented_df)"
   ]
  },
  {
   "cell_type": "code",
   "execution_count": 32,
   "metadata": {},
   "outputs": [
    {
     "data": {
      "text/plain": [
       "0      economia\n",
       "1      economia\n",
       "2      deportes\n",
       "3      deportes\n",
       "4       cultura\n",
       "5      deportes\n",
       "6    tecnologia\n",
       "7      economia\n",
       "8      deportes\n",
       "9      economia\n",
       "Name: category, dtype: object"
      ]
     },
     "execution_count": 32,
     "metadata": {},
     "output_type": "execute_result"
    }
   ],
   "source": [
    "augmented_df['category'].head(10)"
   ]
  },
  {
   "cell_type": "code",
   "execution_count": 33,
   "metadata": {},
   "outputs": [],
   "source": [
    "augmented_df.to_json('data/augmented_elmundo_1124.json')"
   ]
  },
  {
   "cell_type": "code",
   "execution_count": null,
   "metadata": {},
   "outputs": [],
   "source": []
  }
 ],
 "metadata": {
  "kernelspec": {
   "display_name": "Python 3",
   "language": "python",
   "name": "python3"
  },
  "language_info": {
   "codemirror_mode": {
    "name": "ipython",
    "version": 3
   },
   "file_extension": ".py",
   "mimetype": "text/x-python",
   "name": "python",
   "nbconvert_exporter": "python",
   "pygments_lexer": "ipython3",
   "version": "3.7.10"
  }
 },
 "nbformat": 4,
 "nbformat_minor": 4
}
