{
 "cells": [
  {
   "cell_type": "code",
   "execution_count": 1,
   "metadata": {},
   "outputs": [
    {
     "name": "stderr",
     "output_type": "stream",
     "text": [
      "[nltk_data] Downloading package wordnet to /home/hu/nltk_data...\n",
      "[nltk_data]   Package wordnet is already up-to-date!\n"
     ]
    },
    {
     "data": {
      "text/plain": [
       "True"
      ]
     },
     "execution_count": 1,
     "metadata": {},
     "output_type": "execute_result"
    }
   ],
   "source": [
    "import pandas as pd\n",
    "import fakeEDA\n",
    "from tqdm import tqdm\n",
    "from fakeEDA import eda\n",
    "import random\n",
    "import nltk\n",
    "nltk.download('wordnet')"
   ]
  },
  {
   "cell_type": "code",
   "execution_count": 2,
   "metadata": {},
   "outputs": [
    {
     "data": {
      "text/plain": [
       "['trim so that we have the desired number of augmented sentences',\n",
       " 'trim so that we have the desired number of augmented sentences',\n",
       " 'trim so that we have the desired number of augmented sentences',\n",
       " 'trim so that we have the desired number of augmented sentences']"
      ]
     },
     "execution_count": 2,
     "metadata": {},
     "output_type": "execute_result"
    }
   ],
   "source": [
    "eda('trim so that we have the desired number of augmented sentences')"
   ]
  },
  {
   "cell_type": "code",
   "execution_count": 3,
   "metadata": {},
   "outputs": [],
   "source": [
    "df = pd.read_json('data/cleaned_labeled_data_v3.json')"
   ]
  },
  {
   "cell_type": "code",
   "execution_count": 4,
   "metadata": {},
   "outputs": [
    {
     "data": {
      "text/html": [
       "<div>\n",
       "<style scoped>\n",
       "    .dataframe tbody tr th:only-of-type {\n",
       "        vertical-align: middle;\n",
       "    }\n",
       "\n",
       "    .dataframe tbody tr th {\n",
       "        vertical-align: top;\n",
       "    }\n",
       "\n",
       "    .dataframe thead th {\n",
       "        text-align: right;\n",
       "    }\n",
       "</style>\n",
       "<table border=\"1\" class=\"dataframe\">\n",
       "  <thead>\n",
       "    <tr style=\"text-align: right;\">\n",
       "      <th></th>\n",
       "      <th>category</th>\n",
       "      <th>headline</th>\n",
       "      <th>description</th>\n",
       "    </tr>\n",
       "  </thead>\n",
       "  <tbody>\n",
       "    <tr>\n",
       "      <th>0</th>\n",
       "      <td>CRIME</td>\n",
       "      <td>There Were 2 Mass Shootings In Texas Last Week...</td>\n",
       "      <td>She left her husband. He killed their children...</td>\n",
       "    </tr>\n",
       "    <tr>\n",
       "      <th>1</th>\n",
       "      <td>ENTERTAINMENT</td>\n",
       "      <td>Will Smith Joins Diplo And Nicky Jam For The 2...</td>\n",
       "      <td>Of course it has a song.</td>\n",
       "    </tr>\n",
       "    <tr>\n",
       "      <th>2</th>\n",
       "      <td>ENTERTAINMENT</td>\n",
       "      <td>Hugh Grant Marries For The First Time At Age 57</td>\n",
       "      <td>The actor and his longtime girlfriend Anna Ebe...</td>\n",
       "    </tr>\n",
       "    <tr>\n",
       "      <th>3</th>\n",
       "      <td>ENTERTAINMENT</td>\n",
       "      <td>Jim Carrey Blasts 'Castrato' Adam Schiff And D...</td>\n",
       "      <td>The actor gives Dems an ass-kicking for not fi...</td>\n",
       "    </tr>\n",
       "    <tr>\n",
       "      <th>4</th>\n",
       "      <td>ENTERTAINMENT</td>\n",
       "      <td>Julianna Margulies Uses Donald Trump Poop Bags...</td>\n",
       "      <td>The \"Dietland\" actress said using the bags is ...</td>\n",
       "    </tr>\n",
       "    <tr>\n",
       "      <th>5</th>\n",
       "      <td>ENTERTAINMENT</td>\n",
       "      <td>Morgan Freeman 'Devastated' That Sexual Harass...</td>\n",
       "      <td>\"It is not right to equate horrific incidents ...</td>\n",
       "    </tr>\n",
       "    <tr>\n",
       "      <th>6</th>\n",
       "      <td>ENTERTAINMENT</td>\n",
       "      <td>What To Watch On Amazon Prime That’s New This ...</td>\n",
       "      <td>There's a great mini-series joining this week.</td>\n",
       "    </tr>\n",
       "    <tr>\n",
       "      <th>7</th>\n",
       "      <td>ENTERTAINMENT</td>\n",
       "      <td>Mike Myers Reveals He'd 'Like To' Do A Fourth ...</td>\n",
       "      <td>Myer's kids may be pushing for a new \"Powers\" ...</td>\n",
       "    </tr>\n",
       "    <tr>\n",
       "      <th>8</th>\n",
       "      <td>ENTERTAINMENT</td>\n",
       "      <td>What To Watch On Hulu That’s New This Week</td>\n",
       "      <td>You're getting a recent Academy Award-winning ...</td>\n",
       "    </tr>\n",
       "    <tr>\n",
       "      <th>9</th>\n",
       "      <td>ENTERTAINMENT</td>\n",
       "      <td>Justin Timberlake Visits Texas School Shooting...</td>\n",
       "      <td>The pop star also wore a \"Santa Fe Strong\" shi...</td>\n",
       "    </tr>\n",
       "  </tbody>\n",
       "</table>\n",
       "</div>"
      ],
      "text/plain": [
       "        category                                           headline  \\\n",
       "0          CRIME  There Were 2 Mass Shootings In Texas Last Week...   \n",
       "1  ENTERTAINMENT  Will Smith Joins Diplo And Nicky Jam For The 2...   \n",
       "2  ENTERTAINMENT    Hugh Grant Marries For The First Time At Age 57   \n",
       "3  ENTERTAINMENT  Jim Carrey Blasts 'Castrato' Adam Schiff And D...   \n",
       "4  ENTERTAINMENT  Julianna Margulies Uses Donald Trump Poop Bags...   \n",
       "5  ENTERTAINMENT  Morgan Freeman 'Devastated' That Sexual Harass...   \n",
       "6  ENTERTAINMENT  What To Watch On Amazon Prime That’s New This ...   \n",
       "7  ENTERTAINMENT  Mike Myers Reveals He'd 'Like To' Do A Fourth ...   \n",
       "8  ENTERTAINMENT         What To Watch On Hulu That’s New This Week   \n",
       "9  ENTERTAINMENT  Justin Timberlake Visits Texas School Shooting...   \n",
       "\n",
       "                                         description  \n",
       "0  She left her husband. He killed their children...  \n",
       "1                           Of course it has a song.  \n",
       "2  The actor and his longtime girlfriend Anna Ebe...  \n",
       "3  The actor gives Dems an ass-kicking for not fi...  \n",
       "4  The \"Dietland\" actress said using the bags is ...  \n",
       "5  \"It is not right to equate horrific incidents ...  \n",
       "6     There's a great mini-series joining this week.  \n",
       "7  Myer's kids may be pushing for a new \"Powers\" ...  \n",
       "8  You're getting a recent Academy Award-winning ...  \n",
       "9  The pop star also wore a \"Santa Fe Strong\" shi...  "
      ]
     },
     "execution_count": 4,
     "metadata": {},
     "output_type": "execute_result"
    }
   ],
   "source": [
    "df.head(10)"
   ]
  },
  {
   "cell_type": "code",
   "execution_count": 5,
   "metadata": {},
   "outputs": [],
   "source": [
    "content = df['description']\n",
    "headline = df['headline']\n",
    "category = df['category']"
   ]
  },
  {
   "cell_type": "code",
   "execution_count": 6,
   "metadata": {},
   "outputs": [],
   "source": [
    "category_dic = {}\n",
    "for idx,cate in enumerate(list(set(df['category']))):\n",
    "    category_dic[cate] = idx"
   ]
  },
  {
   "cell_type": "code",
   "execution_count": 7,
   "metadata": {},
   "outputs": [
    {
     "data": {
      "text/plain": [
       "{'ENTERTAINMENT': 0,\n",
       " 'HOME & LIVING': 1,\n",
       " 'WEIRD NEWS': 2,\n",
       " 'SCIENCE & TECH': 3,\n",
       " 'WORLD NEWS': 4,\n",
       " 'MEDIA': 5,\n",
       " 'POLITICS': 6,\n",
       " 'ENVIRONMENT': 7,\n",
       " 'TRAVEL': 8,\n",
       " 'FOOD & DRINK': 9,\n",
       " 'CRIME': 10,\n",
       " 'ARTS & CULTURE': 11,\n",
       " 'STYLE & BEAUTY': 12,\n",
       " 'COMEDY': 13,\n",
       " 'WELLNESS': 14,\n",
       " 'RELIGION': 15,\n",
       " 'DIVORCE': 16,\n",
       " 'WEDDINGS': 17,\n",
       " 'IMPACT': 18,\n",
       " 'BUSINESS & FINANCES': 19,\n",
       " 'SPORTS': 20,\n",
       " 'GROUPS VOICES': 21,\n",
       " 'MISCELLANEOUS': 22,\n",
       " 'WOMEN': 23,\n",
       " 'PARENTING': 24,\n",
       " 'EDUCATION': 25}"
      ]
     },
     "execution_count": 7,
     "metadata": {},
     "output_type": "execute_result"
    }
   ],
   "source": [
    "category_dic"
   ]
  },
  {
   "cell_type": "code",
   "execution_count": 8,
   "metadata": {},
   "outputs": [
    {
     "name": "stdout",
     "output_type": "stream",
     "text": [
      "ENTERTAINMENT:11626\n",
      "HOME & LIVING:3946\n",
      "WEIRD NEWS:1679\n",
      "SCIENCE & TECH:3534\n",
      "WORLD NEWS:6842\n",
      "MEDIA:2174\n",
      "POLITICS:27829\n",
      "ENVIRONMENT:3309\n",
      "TRAVEL:9218\n",
      "FOOD & DRINK:6816\n",
      "CRIME:2579\n",
      "ARTS & CULTURE:3095\n",
      "STYLE & BEAUTY:10541\n",
      "COMEDY:3734\n",
      "WELLNESS:22639\n",
      "RELIGION:1798\n",
      "DIVORCE:3406\n",
      "WEDDINGS:3632\n",
      "IMPACT:3032\n",
      "BUSINESS & FINANCES:6654\n",
      "SPORTS:3703\n",
      "GROUPS VOICES:10242\n",
      "MISCELLANEOUS:1962\n",
      "WOMEN:2871\n",
      "PARENTING:11804\n",
      "EDUCATION:1784\n",
      "total: 170449\n",
      "max_cate:27829\n",
      "min_cate:1679\n",
      "[11626, 3946, 1679, 3534, 6842, 2174, 27829, 3309, 9218, 6816, 2579, 3095, 10541, 3734, 22639, 1798, 3406, 3632, 3032, 6654, 3703, 10242, 1962, 2871, 11804, 1784]\n"
     ]
    }
   ],
   "source": [
    "total = 0\n",
    "maxl,minl = 0,100000\n",
    "dic_count = []\n",
    "for ca in category_dic.keys():\n",
    "    cur_len = len([i for i in category if i==ca])\n",
    "    print('{}:{}'.format(ca,cur_len))\n",
    "    maxl,minl = max(maxl,cur_len),min(minl,cur_len)\n",
    "    dic_count.append(cur_len)\n",
    "    total += cur_len\n",
    "print('total:',total)\n",
    "print('max_cate:{}\\nmin_cate:{}'.format(maxl,minl))\n",
    "print(dic_count)"
   ]
  },
  {
   "cell_type": "markdown",
   "metadata": {},
   "source": [
    "#### find a proper increase num_aug"
   ]
  },
  {
   "cell_type": "code",
   "execution_count": 9,
   "metadata": {},
   "outputs": [
    {
     "name": "stdout",
     "output_type": "stream",
     "text": [
      "0 11626 2.2555412933875\n",
      "1 3946 6.645444266833015\n",
      "2 1679 15.618179319191828\n",
      "3 3534 7.420181968569066\n",
      "4 6842 3.832640028781508\n",
      "5 2174 12.0620621328993\n",
      "6 27829 0.942287652338319\n",
      "7 3309 7.924727433340308\n",
      "8 9218 2.844751906804413\n",
      "9 6816 3.8472598410978693\n",
      "10 2579 10.167864706057804\n",
      "11 3095 8.472673045855599\n",
      "12 10541 2.4877073405676007\n",
      "13 3734 7.022743191463063\n",
      "14 22639 1.158307481643318\n",
      "15 1798 14.58449559339437\n",
      "16 3406 7.69903789692398\n",
      "17 3632 7.219967807522873\n",
      "18 3032 8.64872133143901\n",
      "19 6654 3.9409262213590437\n",
      "20 3703 7.081534722366481\n",
      "21 10242 2.5603322668349033\n",
      "22 1962 13.365404218615229\n",
      "23 2871 9.133724513034858\n",
      "24 11804 2.221528556160884\n",
      "25 1784 14.698947913073473\n"
     ]
    }
   ],
   "source": [
    "for ca in category_dic.keys():\n",
    "    p = 4/(dic_count[category_dic[ca]]/(sum(dic_count)/len(dic_count)))\n",
    "    print(category_dic[ca],dic_count[category_dic[ca]],p)"
   ]
  },
  {
   "cell_type": "code",
   "execution_count": 10,
   "metadata": {},
   "outputs": [],
   "source": [
    "augumented_news = [[],[],[]]"
   ]
  },
  {
   "cell_type": "code",
   "execution_count": 11,
   "metadata": {},
   "outputs": [
    {
     "name": "stderr",
     "output_type": "stream",
     "text": [
      "170449it [00:33, 5146.56it/s]\n"
     ]
    }
   ],
   "source": [
    "for cate,head,cont in tqdm(zip(category,headline,content)):\n",
    "    if max(len(head),len(cont)>10):\n",
    "        p = 4/(dic_count[category_dic[ca]]/(sum(dic_count)/len(dic_count)))\n",
    "        if len(head)>len(cont):\n",
    "            new_heads = eda(head,num_aug=max(6,int(p)))\n",
    "            for new in new_heads:\n",
    "                augumented_news[0].append(cate)\n",
    "                augumented_news[1].append(new)\n",
    "                augumented_news[2].append(cont)\n",
    "        else:\n",
    "            new_conts = eda(cont)\n",
    "            for new in new_conts:\n",
    "                augumented_news[0].append(cate)\n",
    "                augumented_news[1].append(head)\n",
    "                augumented_news[2].append(new)\n",
    "    else:\n",
    "        augumented_news[0].append(cate)\n",
    "        augumented_news[1].append(head)\n",
    "        augumented_news[2].append(cont)"
   ]
  },
  {
   "cell_type": "code",
   "execution_count": 12,
   "metadata": {},
   "outputs": [
    {
     "data": {
      "text/plain": [
       "956966"
      ]
     },
     "execution_count": 12,
     "metadata": {},
     "output_type": "execute_result"
    }
   ],
   "source": [
    "len(augumented_news[0])"
   ]
  },
  {
   "cell_type": "code",
   "execution_count": 13,
   "metadata": {},
   "outputs": [
    {
     "name": "stdout",
     "output_type": "stream",
     "text": [
      "ENTERTAINMENT:95634\n",
      "HOME & LIVING:23834\n",
      "WEIRD NEWS:15596\n",
      "SCIENCE & TECH:19096\n",
      "WORLD NEWS:37978\n",
      "MEDIA:13636\n",
      "POLITICS:177066\n",
      "ENVIRONMENT:15426\n",
      "TRAVEL:39862\n",
      "FOOD & DRINK:39564\n",
      "CRIME:15446\n",
      "ARTS & CULTURE:17080\n",
      "STYLE & BEAUTY:54804\n",
      "COMEDY:30476\n",
      "WELLNESS:97706\n",
      "RELIGION:9502\n",
      "DIVORCE:13794\n",
      "WEDDINGS:14708\n",
      "IMPACT:14568\n",
      "BUSINESS & FINANCES:30206\n",
      "SPORTS:26872\n",
      "GROUPS VOICES:61538\n",
      "MISCELLANEOUS:12138\n",
      "WOMEN:17124\n",
      "PARENTING:54976\n",
      "EDUCATION:8336\n",
      "total: 956966\n",
      "max_cate:177066\n",
      "min_cate:8336\n",
      "[95634, 23834, 15596, 19096, 37978, 13636, 177066, 15426, 39862, 39564, 15446, 17080, 54804, 30476, 97706, 9502, 13794, 14708, 14568, 30206, 26872, 61538, 12138, 17124, 54976, 8336]\n"
     ]
    }
   ],
   "source": [
    "total = 0\n",
    "maxl,minl = 0,100000\n",
    "dic_count = []\n",
    "for ca in category_dic.keys():\n",
    "    cur_len = len([i for i in augumented_news[0] if i==ca])\n",
    "    print('{}:{}'.format(ca,cur_len))\n",
    "    maxl,minl = max(maxl,cur_len),min(minl,cur_len)\n",
    "    dic_count.append(cur_len)\n",
    "    total += cur_len\n",
    "print('total:',total)\n",
    "print('max_cate:{}\\nmin_cate:{}'.format(maxl,minl))\n",
    "print(dic_count)"
   ]
  },
  {
   "cell_type": "code",
   "execution_count": 14,
   "metadata": {},
   "outputs": [],
   "source": [
    "shuffle_idx = [i for i in range(0,len(augumented_news[0]))]\n",
    "random.shuffle(shuffle_idx)\n",
    "shuffled_data = [[],[],[]]\n",
    "for idx in shuffle_idx:\n",
    "    shuffled_data[0].append(augumented_news[0][idx])\n",
    "    shuffled_data[1].append(augumented_news[1][idx])\n",
    "    shuffled_data[2].append(augumented_news[2][idx])\n",
    "    "
   ]
  },
  {
   "cell_type": "code",
   "execution_count": 15,
   "metadata": {},
   "outputs": [],
   "source": [
    "augmented_df = {\n",
    "    'category':shuffled_data[0],\n",
    "    'headline':shuffled_data[1],\n",
    "    'description':shuffled_data[2]\n",
    "}"
   ]
  },
  {
   "cell_type": "code",
   "execution_count": 16,
   "metadata": {},
   "outputs": [],
   "source": [
    "augmented_df = pd.DataFrame(data=augmented_df)"
   ]
  },
  {
   "cell_type": "code",
   "execution_count": 17,
   "metadata": {},
   "outputs": [
    {
     "data": {
      "text/plain": [
       "0               POLITICS\n",
       "1         STYLE & BEAUTY\n",
       "2    BUSINESS & FINANCES\n",
       "3                 COMEDY\n",
       "4               POLITICS\n",
       "5          ENTERTAINMENT\n",
       "6             WORLD NEWS\n",
       "7                  CRIME\n",
       "8               WELLNESS\n",
       "9          ENTERTAINMENT\n",
       "Name: category, dtype: object"
      ]
     },
     "execution_count": 17,
     "metadata": {},
     "output_type": "execute_result"
    }
   ],
   "source": [
    "augmented_df['category'].head(10)"
   ]
  },
  {
   "cell_type": "code",
   "execution_count": 18,
   "metadata": {},
   "outputs": [],
   "source": [
    "augmented_df.to_json('data/fake-augmented_labeled_news.json')"
   ]
  },
  {
   "cell_type": "code",
   "execution_count": null,
   "metadata": {},
   "outputs": [],
   "source": []
  }
 ],
 "metadata": {
  "kernelspec": {
   "display_name": "Python 3",
   "language": "python",
   "name": "python3"
  },
  "language_info": {
   "codemirror_mode": {
    "name": "ipython",
    "version": 3
   },
   "file_extension": ".py",
   "mimetype": "text/x-python",
   "name": "python",
   "nbconvert_exporter": "python",
   "pygments_lexer": "ipython3",
   "version": "3.7.10"
  }
 },
 "nbformat": 4,
 "nbformat_minor": 4
}
