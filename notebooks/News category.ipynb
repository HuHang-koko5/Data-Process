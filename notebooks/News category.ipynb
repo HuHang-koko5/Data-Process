{
 "cells": [
  {
   "cell_type": "code",
   "execution_count": 1,
   "metadata": {},
   "outputs": [],
   "source": [
    "import pandas as pd"
   ]
  },
  {
   "cell_type": "markdown",
   "metadata": {},
   "source": [
    "### read json"
   ]
  },
  {
   "cell_type": "code",
   "execution_count": 2,
   "metadata": {},
   "outputs": [
    {
     "name": "stdout",
     "output_type": "stream",
     "text": [
      "        category                                           headline  \\\n",
      "0          CRIME  There Were 2 Mass Shootings In Texas Last Week...   \n",
      "1  ENTERTAINMENT  Will Smith Joins Diplo And Nicky Jam For The 2...   \n",
      "2  ENTERTAINMENT    Hugh Grant Marries For The First Time At Age 57   \n",
      "3  ENTERTAINMENT  Jim Carrey Blasts 'Castrato' Adam Schiff And D...   \n",
      "4  ENTERTAINMENT  Julianna Margulies Uses Donald Trump Poop Bags...   \n",
      "\n",
      "           authors                                               link  \\\n",
      "0  Melissa Jeltsen  https://www.huffingtonpost.com/entry/texas-ama...   \n",
      "1    Andy McDonald  https://www.huffingtonpost.com/entry/will-smit...   \n",
      "2       Ron Dicker  https://www.huffingtonpost.com/entry/hugh-gran...   \n",
      "3       Ron Dicker  https://www.huffingtonpost.com/entry/jim-carre...   \n",
      "4       Ron Dicker  https://www.huffingtonpost.com/entry/julianna-...   \n",
      "\n",
      "                                   short_description       date  \n",
      "0  She left her husband. He killed their children... 2018-05-26  \n",
      "1                           Of course it has a song. 2018-05-26  \n",
      "2  The actor and his longtime girlfriend Anna Ebe... 2018-05-26  \n",
      "3  The actor gives Dems an ass-kicking for not fi... 2018-05-26  \n",
      "4  The \"Dietland\" actress said using the bags is ... 2018-05-26  \n"
     ]
    }
   ],
   "source": [
    "news = pd.read_json('./News_Category_Dataset_v2.json',lines=True)\n",
    "print(news[:5])"
   ]
  },
  {
   "cell_type": "code",
   "execution_count": 3,
   "metadata": {},
   "outputs": [
    {
     "data": {
      "text/plain": [
       "category             200853\n",
       "headline             200853\n",
       "authors              200853\n",
       "link                 200853\n",
       "short_description    200853\n",
       "date                 200853\n",
       "dtype: int64"
      ]
     },
     "execution_count": 3,
     "metadata": {},
     "output_type": "execute_result"
    }
   ],
   "source": [
    "news.describe(datetime_is_numeric=True)\n",
    "news.count()"
   ]
  },
  {
   "cell_type": "markdown",
   "metadata": {},
   "source": [
    "### Repalce duplicate category"
   ]
  },
  {
   "cell_type": "code",
   "execution_count": 4,
   "metadata": {},
   "outputs": [
    {
     "data": {
      "text/plain": [
       "19"
      ]
     },
     "execution_count": 4,
     "metadata": {},
     "output_type": "execute_result"
    }
   ],
   "source": [
    "cate_dic = {\"HEALTHY LIVING\": \"WELLNESS\",\n",
    "\"QUEER VOICES\": \"GROUPS VOICES\",\n",
    "\"BUSINESS\": \"BUSINESS & FINANCES\",\n",
    "\"PARENTS\": \"PARENTING\",\n",
    "\"BLACK VOICES\": \"GROUPS VOICES\",\n",
    "\"THE WORLDPOST\": \"WORLD NEWS\",\n",
    "\"STYLE\": \"STYLE & BEAUTY\",\n",
    "\"GREEN\": \"ENVIRONMENT\",\n",
    "\"TASTE\": \"FOOD & DRINK\",\n",
    "\"WORLDPOST\": \"WORLD NEWS\",\n",
    "\"SCIENCE\": \"SCIENCE & TECH\",\n",
    "\"TECH\": \"SCIENCE & TECH\",\n",
    "\"MONEY\": \"BUSINESS & FINANCES\",\n",
    "\"ARTS\": \"ARTS & CULTURE\",\n",
    "\"COLLEGE\": \"EDUCATION\",\n",
    "\"LATINO VOICES\": \"GROUPS VOICES\",\n",
    "\"CULTURE & ARTS\": \"ARTS & CULTURE\",\n",
    "\"FIFTY\": \"MISCELLANEOUS\",\n",
    "\"GOOD NEWS\": \"MISCELLANEOUS\"}\n",
    "len(cate_dic)"
   ]
  },
  {
   "cell_type": "code",
   "execution_count": 5,
   "metadata": {},
   "outputs": [
    {
     "name": "stdout",
     "output_type": "stream",
     "text": [
      "41\n"
     ]
    }
   ],
   "source": [
    "category = list(set(news['category']))\n",
    "print(len(category))"
   ]
  },
  {
   "cell_type": "code",
   "execution_count": 6,
   "metadata": {},
   "outputs": [
    {
     "name": "stdout",
     "output_type": "stream",
     "text": [
      "26\n"
     ]
    }
   ],
   "source": [
    "news['category'] = news['category'].replace(cate_dic)\n",
    "print(len(list(set(news['category']))))\n",
    "cates = list(set(news['category']))"
   ]
  },
  {
   "cell_type": "markdown",
   "metadata": {},
   "source": [
    "### Fliter on content and headlines"
   ]
  },
  {
   "cell_type": "code",
   "execution_count": 83,
   "metadata": {},
   "outputs": [
    {
     "name": "stdout",
     "output_type": "stream",
     "text": [
      "total content: 200853\n",
      "5 64 76 \n",
      "13 75 24 \n",
      "13 47 87 \n",
      "13 69 86 \n",
      "13 71 87 \n",
      "13 80 125 \n",
      "13 66 23 \n",
      "13 50 46 \n",
      "13 64 68 \n",
      "13 42 52 \n"
     ]
    }
   ],
   "source": [
    "categorys = news['category']\n",
    "headlines = news['headline']\n",
    "descriptions = news['short_description']\n",
    "content = []\n",
    "minh = min(headlines,key=lambda x:len(x))\n",
    "maxh = max(headlines,key=lambda x:len(x))\n",
    "mind = min(descriptions,key=lambda x:len(x))\n",
    "maxd = max(descriptions,key=lambda x:len(x))\n",
    "for c,h,d in zip(categorys,headlines,descriptions):\n",
    "    content.append([c,h,d])\n",
    "print('total content:',len(content))\n",
    "for i in range(10):\n",
    "    print('{} {} {} '.format(len(content[i][0]),len(content[i][1]),len(content[i][2])))"
   ]
  },
  {
   "cell_type": "code",
   "execution_count": 84,
   "metadata": {},
   "outputs": [
    {
     "name": "stdout",
     "output_type": "stream",
     "text": [
      "0 320\n",
      "0 1472\n"
     ]
    }
   ],
   "source": [
    "print(len(minh),len(maxh))\n",
    "print(len(mind),len(maxd))"
   ]
  },
  {
   "cell_type": "markdown",
   "metadata": {},
   "source": [
    "#### fliter"
   ]
  },
  {
   "cell_type": "code",
   "execution_count": 85,
   "metadata": {},
   "outputs": [],
   "source": [
    "def fl(x):\n",
    "    return (len(x[1].strip().split()) > 5) and (len(x[2].strip().split()) > 10)"
   ]
  },
  {
   "cell_type": "code",
   "execution_count": 86,
   "metadata": {},
   "outputs": [],
   "source": [
    "f_content = list(filter(fl,content))"
   ]
  },
  {
   "cell_type": "code",
   "execution_count": 87,
   "metadata": {},
   "outputs": [
    {
     "name": "stdout",
     "output_type": "stream",
     "text": [
      "left: 128854\n"
     ]
    }
   ],
   "source": [
    "print('left:',len(f_content))"
   ]
  },
  {
   "cell_type": "code",
   "execution_count": 88,
   "metadata": {},
   "outputs": [
    {
     "name": "stdout",
     "output_type": "stream",
     "text": [
      "18 320\n",
      "39 1290\n"
     ]
    }
   ],
   "source": [
    "minh = min([i[1] for i in f_content],key=lambda x:len(x))\n",
    "maxh = max([i[1] for i in f_content],key=lambda x:len(x))\n",
    "mind = min([i[2] for i in f_content],key=lambda x:len(x))\n",
    "maxd = max([i[2] for i in f_content],key=lambda x:len(x))\n",
    "print(len(minh),len(maxh))\n",
    "print(len(mind),len(maxd))"
   ]
  },
  {
   "cell_type": "code",
   "execution_count": 89,
   "metadata": {},
   "outputs": [],
   "source": [
    "category_dic = {}\n",
    "for idx,cate in enumerate(list(set(news['category']))):\n",
    "    category_dic[cate] = idx"
   ]
  },
  {
   "cell_type": "code",
   "execution_count": 90,
   "metadata": {},
   "outputs": [
    {
     "data": {
      "text/plain": [
       "{'MEDIA': 0,\n",
       " 'DIVORCE': 1,\n",
       " 'WORLD NEWS': 2,\n",
       " 'WELLNESS': 3,\n",
       " 'HOME & LIVING': 4,\n",
       " 'FOOD & DRINK': 5,\n",
       " 'ARTS & CULTURE': 6,\n",
       " 'WOMEN': 7,\n",
       " 'PARENTING': 8,\n",
       " 'POLITICS': 9,\n",
       " 'SCIENCE & TECH': 10,\n",
       " 'COMEDY': 11,\n",
       " 'GROUPS VOICES': 12,\n",
       " 'RELIGION': 13,\n",
       " 'WEDDINGS': 14,\n",
       " 'ENVIRONMENT': 15,\n",
       " 'STYLE & BEAUTY': 16,\n",
       " 'WEIRD NEWS': 17,\n",
       " 'SPORTS': 18,\n",
       " 'CRIME': 19,\n",
       " 'IMPACT': 20,\n",
       " 'BUSINESS & FINANCES': 21,\n",
       " 'EDUCATION': 22,\n",
       " 'TRAVEL': 23,\n",
       " 'MISCELLANEOUS': 24,\n",
       " 'ENTERTAINMENT': 25}"
      ]
     },
     "execution_count": 90,
     "metadata": {},
     "output_type": "execute_result"
    }
   ],
   "source": [
    "category_dic"
   ]
  },
  {
   "cell_type": "markdown",
   "metadata": {},
   "source": [
    "### list distribution"
   ]
  },
  {
   "cell_type": "code",
   "execution_count": 91,
   "metadata": {},
   "outputs": [
    {
     "name": "stdout",
     "output_type": "stream",
     "text": [
      "MEDIA:1656\n",
      "DIVORCE:2913\n",
      "WORLD NEWS:5530\n",
      "WELLNESS:17300\n",
      "HOME & LIVING:2989\n",
      "FOOD & DRINK:4303\n",
      "ARTS & CULTURE:2211\n",
      "WOMEN:2108\n",
      "PARENTING:9179\n",
      "POLITICS:21086\n",
      "SCIENCE & TECH:2791\n",
      "COMEDY:2165\n",
      "GROUPS VOICES:7989\n",
      "RELIGION:1236\n",
      "WEDDINGS:3192\n",
      "ENVIRONMENT:2767\n",
      "STYLE & BEAUTY:8767\n",
      "WEIRD NEWS:822\n",
      "SPORTS:2486\n",
      "CRIME:2077\n",
      "IMPACT:2360\n",
      "BUSINESS & FINANCES:5683\n",
      "EDUCATION:1421\n",
      "TRAVEL:7397\n",
      "MISCELLANEOUS:1425\n",
      "ENTERTAINMENT:7001\n",
      "total: 128854\n"
     ]
    }
   ],
   "source": [
    "total = 0\n",
    "for ca in category_dic.keys():\n",
    "    print('{}:{}'.format(ca,len([i for i in f_content if i[0]==ca])))\n",
    "    total += len([i for i in f_content if i[0]==ca])\n",
    "print('total:',total)"
   ]
  },
  {
   "cell_type": "code",
   "execution_count": 92,
   "metadata": {},
   "outputs": [],
   "source": [
    "df = {'category':[i[0] for i in f_content],\n",
    "     'headline':[i[1] for i in f_content],\n",
    "     'description':[i[2] for i in f_content]}"
   ]
  },
  {
   "cell_type": "code",
   "execution_count": 93,
   "metadata": {},
   "outputs": [],
   "source": [
    "df = pd.DataFrame(data=df)"
   ]
  },
  {
   "cell_type": "code",
   "execution_count": 94,
   "metadata": {},
   "outputs": [
    {
     "data": {
      "text/html": [
       "<div>\n",
       "<style scoped>\n",
       "    .dataframe tbody tr th:only-of-type {\n",
       "        vertical-align: middle;\n",
       "    }\n",
       "\n",
       "    .dataframe tbody tr th {\n",
       "        vertical-align: top;\n",
       "    }\n",
       "\n",
       "    .dataframe thead th {\n",
       "        text-align: right;\n",
       "    }\n",
       "</style>\n",
       "<table border=\"1\" class=\"dataframe\">\n",
       "  <thead>\n",
       "    <tr style=\"text-align: right;\">\n",
       "      <th></th>\n",
       "      <th>category</th>\n",
       "      <th>headline</th>\n",
       "      <th>description</th>\n",
       "    </tr>\n",
       "  </thead>\n",
       "  <tbody>\n",
       "    <tr>\n",
       "      <th>0</th>\n",
       "      <td>CRIME</td>\n",
       "      <td>There Were 2 Mass Shootings In Texas Last Week...</td>\n",
       "      <td>She left her husband. He killed their children...</td>\n",
       "    </tr>\n",
       "    <tr>\n",
       "      <th>1</th>\n",
       "      <td>ENTERTAINMENT</td>\n",
       "      <td>Hugh Grant Marries For The First Time At Age 57</td>\n",
       "      <td>The actor and his longtime girlfriend Anna Ebe...</td>\n",
       "    </tr>\n",
       "    <tr>\n",
       "      <th>2</th>\n",
       "      <td>ENTERTAINMENT</td>\n",
       "      <td>Jim Carrey Blasts 'Castrato' Adam Schiff And D...</td>\n",
       "      <td>The actor gives Dems an ass-kicking for not fi...</td>\n",
       "    </tr>\n",
       "    <tr>\n",
       "      <th>3</th>\n",
       "      <td>ENTERTAINMENT</td>\n",
       "      <td>Julianna Margulies Uses Donald Trump Poop Bags...</td>\n",
       "      <td>The \"Dietland\" actress said using the bags is ...</td>\n",
       "    </tr>\n",
       "    <tr>\n",
       "      <th>4</th>\n",
       "      <td>ENTERTAINMENT</td>\n",
       "      <td>Morgan Freeman 'Devastated' That Sexual Harass...</td>\n",
       "      <td>\"It is not right to equate horrific incidents ...</td>\n",
       "    </tr>\n",
       "    <tr>\n",
       "      <th>...</th>\n",
       "      <td>...</td>\n",
       "      <td>...</td>\n",
       "      <td>...</td>\n",
       "    </tr>\n",
       "    <tr>\n",
       "      <th>128849</th>\n",
       "      <td>SCIENCE &amp; TECH</td>\n",
       "      <td>RIM CEO Thorsten Heins' 'Significant' Plans Fo...</td>\n",
       "      <td>Verizon Wireless and AT&amp;T are already promotin...</td>\n",
       "    </tr>\n",
       "    <tr>\n",
       "      <th>128850</th>\n",
       "      <td>SPORTS</td>\n",
       "      <td>Maria Sharapova Stunned By Victoria Azarenka I...</td>\n",
       "      <td>Afterward, Azarenka, more effusive with the pr...</td>\n",
       "    </tr>\n",
       "    <tr>\n",
       "      <th>128851</th>\n",
       "      <td>SPORTS</td>\n",
       "      <td>Giants Over Patriots, Jets Over Colts Among  M...</td>\n",
       "      <td>Leading up to Super Bowl XLVI, the most talked...</td>\n",
       "    </tr>\n",
       "    <tr>\n",
       "      <th>128852</th>\n",
       "      <td>SPORTS</td>\n",
       "      <td>Aldon Smith Arrested: 49ers Linebacker Busted ...</td>\n",
       "      <td>CORRECTION: An earlier version of this story i...</td>\n",
       "    </tr>\n",
       "    <tr>\n",
       "      <th>128853</th>\n",
       "      <td>SPORTS</td>\n",
       "      <td>Dwight Howard Rips Teammates After Magic Loss ...</td>\n",
       "      <td>The five-time all-star center tore into his te...</td>\n",
       "    </tr>\n",
       "  </tbody>\n",
       "</table>\n",
       "<p>128854 rows × 3 columns</p>\n",
       "</div>"
      ],
      "text/plain": [
       "              category                                           headline  \\\n",
       "0                CRIME  There Were 2 Mass Shootings In Texas Last Week...   \n",
       "1        ENTERTAINMENT    Hugh Grant Marries For The First Time At Age 57   \n",
       "2        ENTERTAINMENT  Jim Carrey Blasts 'Castrato' Adam Schiff And D...   \n",
       "3        ENTERTAINMENT  Julianna Margulies Uses Donald Trump Poop Bags...   \n",
       "4        ENTERTAINMENT  Morgan Freeman 'Devastated' That Sexual Harass...   \n",
       "...                ...                                                ...   \n",
       "128849  SCIENCE & TECH  RIM CEO Thorsten Heins' 'Significant' Plans Fo...   \n",
       "128850          SPORTS  Maria Sharapova Stunned By Victoria Azarenka I...   \n",
       "128851          SPORTS  Giants Over Patriots, Jets Over Colts Among  M...   \n",
       "128852          SPORTS  Aldon Smith Arrested: 49ers Linebacker Busted ...   \n",
       "128853          SPORTS  Dwight Howard Rips Teammates After Magic Loss ...   \n",
       "\n",
       "                                              description  \n",
       "0       She left her husband. He killed their children...  \n",
       "1       The actor and his longtime girlfriend Anna Ebe...  \n",
       "2       The actor gives Dems an ass-kicking for not fi...  \n",
       "3       The \"Dietland\" actress said using the bags is ...  \n",
       "4       \"It is not right to equate horrific incidents ...  \n",
       "...                                                   ...  \n",
       "128849  Verizon Wireless and AT&T are already promotin...  \n",
       "128850  Afterward, Azarenka, more effusive with the pr...  \n",
       "128851  Leading up to Super Bowl XLVI, the most talked...  \n",
       "128852  CORRECTION: An earlier version of this story i...  \n",
       "128853  The five-time all-star center tore into his te...  \n",
       "\n",
       "[128854 rows x 3 columns]"
      ]
     },
     "execution_count": 94,
     "metadata": {},
     "output_type": "execute_result"
    }
   ],
   "source": [
    "df"
   ]
  },
  {
   "cell_type": "code",
   "execution_count": 95,
   "metadata": {},
   "outputs": [],
   "source": [
    "df.to_json('./cleaned_labeled_data.json')"
   ]
  },
  {
   "cell_type": "code",
   "execution_count": 96,
   "metadata": {},
   "outputs": [],
   "source": [
    "weird_one = news[news['headline']==\"Mystery 'Wolf-Like' Animal Reportedly Shot In Montana, Baffles Wildlife Officials\"]"
   ]
  },
  {
   "cell_type": "code",
   "execution_count": 97,
   "metadata": {},
   "outputs": [
    {
     "name": "stdout",
     "output_type": "stream",
     "text": [
      "{<class 'str'>}\n"
     ]
    }
   ],
   "source": [
    "print(set([type(i) for i in df['headline']]))"
   ]
  },
  {
   "cell_type": "code",
   "execution_count": 98,
   "metadata": {},
   "outputs": [
    {
     "name": "stdout",
     "output_type": "stream",
     "text": [
      "['rer', 'dde', 'rf']\n",
      "  rer  dde rf\n"
     ]
    }
   ],
   "source": [
    "a = '  rer  dde rf'\n",
    "print(a.strip().split())\n",
    "print(a)"
   ]
  },
  {
   "cell_type": "code",
   "execution_count": null,
   "metadata": {},
   "outputs": [],
   "source": []
  }
 ],
 "metadata": {
  "kernelspec": {
   "display_name": "Python 3",
   "language": "python",
   "name": "python3"
  },
  "language_info": {
   "codemirror_mode": {
    "name": "ipython",
    "version": 3
   },
   "file_extension": ".py",
   "mimetype": "text/x-python",
   "name": "python",
   "nbconvert_exporter": "python",
   "pygments_lexer": "ipython3",
   "version": "3.7.9"
  }
 },
 "nbformat": 4,
 "nbformat_minor": 4
}
