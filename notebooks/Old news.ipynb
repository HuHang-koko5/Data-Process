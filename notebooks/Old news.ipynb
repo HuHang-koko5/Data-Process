{
 "cells": [
  {
   "cell_type": "code",
   "execution_count": 1,
   "metadata": {},
   "outputs": [],
   "source": [
    "import pandas as pd"
   ]
  },
  {
   "cell_type": "code",
   "execution_count": 3,
   "metadata": {
    "scrolled": true
   },
   "outputs": [
    {
     "ename": "FileNotFoundError",
     "evalue": "[Errno 2] No such file or directory: './old-newspaper.tsv'",
     "output_type": "error",
     "traceback": [
      "\u001b[1;31m---------------------------------------------------------------------------\u001b[0m",
      "\u001b[1;31mFileNotFoundError\u001b[0m                         Traceback (most recent call last)",
      "\u001b[1;32m<ipython-input-3-255a95582e0a>\u001b[0m in \u001b[0;36m<module>\u001b[1;34m\u001b[0m\n\u001b[1;32m----> 1\u001b[1;33m \u001b[0mdf\u001b[0m \u001b[1;33m=\u001b[0m\u001b[0mpd\u001b[0m\u001b[1;33m.\u001b[0m\u001b[0mread_csv\u001b[0m\u001b[1;33m(\u001b[0m\u001b[1;34m'./old-newspaper.tsv'\u001b[0m\u001b[1;33m,\u001b[0m\u001b[0msep\u001b[0m\u001b[1;33m=\u001b[0m\u001b[1;34m'\\t'\u001b[0m\u001b[1;33m,\u001b[0m\u001b[0merror_bad_lines\u001b[0m\u001b[1;33m=\u001b[0m\u001b[1;32mFalse\u001b[0m\u001b[1;33m)\u001b[0m\u001b[1;33m\u001b[0m\u001b[1;33m\u001b[0m\u001b[0m\n\u001b[0m",
      "\u001b[1;32mF:\\Anaconda\\envs\\deepl\\lib\\site-packages\\pandas\\io\\parsers.py\u001b[0m in \u001b[0;36mread_csv\u001b[1;34m(filepath_or_buffer, sep, delimiter, header, names, index_col, usecols, squeeze, prefix, mangle_dupe_cols, dtype, engine, converters, true_values, false_values, skipinitialspace, skiprows, skipfooter, nrows, na_values, keep_default_na, na_filter, verbose, skip_blank_lines, parse_dates, infer_datetime_format, keep_date_col, date_parser, dayfirst, cache_dates, iterator, chunksize, compression, thousands, decimal, lineterminator, quotechar, quoting, doublequote, escapechar, comment, encoding, dialect, error_bad_lines, warn_bad_lines, delim_whitespace, low_memory, memory_map, float_precision)\u001b[0m\n\u001b[0;32m    684\u001b[0m     )\n\u001b[0;32m    685\u001b[0m \u001b[1;33m\u001b[0m\u001b[0m\n\u001b[1;32m--> 686\u001b[1;33m     \u001b[1;32mreturn\u001b[0m \u001b[0m_read\u001b[0m\u001b[1;33m(\u001b[0m\u001b[0mfilepath_or_buffer\u001b[0m\u001b[1;33m,\u001b[0m \u001b[0mkwds\u001b[0m\u001b[1;33m)\u001b[0m\u001b[1;33m\u001b[0m\u001b[1;33m\u001b[0m\u001b[0m\n\u001b[0m\u001b[0;32m    687\u001b[0m \u001b[1;33m\u001b[0m\u001b[0m\n\u001b[0;32m    688\u001b[0m \u001b[1;33m\u001b[0m\u001b[0m\n",
      "\u001b[1;32mF:\\Anaconda\\envs\\deepl\\lib\\site-packages\\pandas\\io\\parsers.py\u001b[0m in \u001b[0;36m_read\u001b[1;34m(filepath_or_buffer, kwds)\u001b[0m\n\u001b[0;32m    450\u001b[0m \u001b[1;33m\u001b[0m\u001b[0m\n\u001b[0;32m    451\u001b[0m     \u001b[1;31m# Create the parser.\u001b[0m\u001b[1;33m\u001b[0m\u001b[1;33m\u001b[0m\u001b[1;33m\u001b[0m\u001b[0m\n\u001b[1;32m--> 452\u001b[1;33m     \u001b[0mparser\u001b[0m \u001b[1;33m=\u001b[0m \u001b[0mTextFileReader\u001b[0m\u001b[1;33m(\u001b[0m\u001b[0mfp_or_buf\u001b[0m\u001b[1;33m,\u001b[0m \u001b[1;33m**\u001b[0m\u001b[0mkwds\u001b[0m\u001b[1;33m)\u001b[0m\u001b[1;33m\u001b[0m\u001b[1;33m\u001b[0m\u001b[0m\n\u001b[0m\u001b[0;32m    453\u001b[0m \u001b[1;33m\u001b[0m\u001b[0m\n\u001b[0;32m    454\u001b[0m     \u001b[1;32mif\u001b[0m \u001b[0mchunksize\u001b[0m \u001b[1;32mor\u001b[0m \u001b[0miterator\u001b[0m\u001b[1;33m:\u001b[0m\u001b[1;33m\u001b[0m\u001b[1;33m\u001b[0m\u001b[0m\n",
      "\u001b[1;32mF:\\Anaconda\\envs\\deepl\\lib\\site-packages\\pandas\\io\\parsers.py\u001b[0m in \u001b[0;36m__init__\u001b[1;34m(self, f, engine, **kwds)\u001b[0m\n\u001b[0;32m    944\u001b[0m             \u001b[0mself\u001b[0m\u001b[1;33m.\u001b[0m\u001b[0moptions\u001b[0m\u001b[1;33m[\u001b[0m\u001b[1;34m\"has_index_names\"\u001b[0m\u001b[1;33m]\u001b[0m \u001b[1;33m=\u001b[0m \u001b[0mkwds\u001b[0m\u001b[1;33m[\u001b[0m\u001b[1;34m\"has_index_names\"\u001b[0m\u001b[1;33m]\u001b[0m\u001b[1;33m\u001b[0m\u001b[1;33m\u001b[0m\u001b[0m\n\u001b[0;32m    945\u001b[0m \u001b[1;33m\u001b[0m\u001b[0m\n\u001b[1;32m--> 946\u001b[1;33m         \u001b[0mself\u001b[0m\u001b[1;33m.\u001b[0m\u001b[0m_make_engine\u001b[0m\u001b[1;33m(\u001b[0m\u001b[0mself\u001b[0m\u001b[1;33m.\u001b[0m\u001b[0mengine\u001b[0m\u001b[1;33m)\u001b[0m\u001b[1;33m\u001b[0m\u001b[1;33m\u001b[0m\u001b[0m\n\u001b[0m\u001b[0;32m    947\u001b[0m \u001b[1;33m\u001b[0m\u001b[0m\n\u001b[0;32m    948\u001b[0m     \u001b[1;32mdef\u001b[0m \u001b[0mclose\u001b[0m\u001b[1;33m(\u001b[0m\u001b[0mself\u001b[0m\u001b[1;33m)\u001b[0m\u001b[1;33m:\u001b[0m\u001b[1;33m\u001b[0m\u001b[1;33m\u001b[0m\u001b[0m\n",
      "\u001b[1;32mF:\\Anaconda\\envs\\deepl\\lib\\site-packages\\pandas\\io\\parsers.py\u001b[0m in \u001b[0;36m_make_engine\u001b[1;34m(self, engine)\u001b[0m\n\u001b[0;32m   1176\u001b[0m     \u001b[1;32mdef\u001b[0m \u001b[0m_make_engine\u001b[0m\u001b[1;33m(\u001b[0m\u001b[0mself\u001b[0m\u001b[1;33m,\u001b[0m \u001b[0mengine\u001b[0m\u001b[1;33m=\u001b[0m\u001b[1;34m\"c\"\u001b[0m\u001b[1;33m)\u001b[0m\u001b[1;33m:\u001b[0m\u001b[1;33m\u001b[0m\u001b[1;33m\u001b[0m\u001b[0m\n\u001b[0;32m   1177\u001b[0m         \u001b[1;32mif\u001b[0m \u001b[0mengine\u001b[0m \u001b[1;33m==\u001b[0m \u001b[1;34m\"c\"\u001b[0m\u001b[1;33m:\u001b[0m\u001b[1;33m\u001b[0m\u001b[1;33m\u001b[0m\u001b[0m\n\u001b[1;32m-> 1178\u001b[1;33m             \u001b[0mself\u001b[0m\u001b[1;33m.\u001b[0m\u001b[0m_engine\u001b[0m \u001b[1;33m=\u001b[0m \u001b[0mCParserWrapper\u001b[0m\u001b[1;33m(\u001b[0m\u001b[0mself\u001b[0m\u001b[1;33m.\u001b[0m\u001b[0mf\u001b[0m\u001b[1;33m,\u001b[0m \u001b[1;33m**\u001b[0m\u001b[0mself\u001b[0m\u001b[1;33m.\u001b[0m\u001b[0moptions\u001b[0m\u001b[1;33m)\u001b[0m\u001b[1;33m\u001b[0m\u001b[1;33m\u001b[0m\u001b[0m\n\u001b[0m\u001b[0;32m   1179\u001b[0m         \u001b[1;32melse\u001b[0m\u001b[1;33m:\u001b[0m\u001b[1;33m\u001b[0m\u001b[1;33m\u001b[0m\u001b[0m\n\u001b[0;32m   1180\u001b[0m             \u001b[1;32mif\u001b[0m \u001b[0mengine\u001b[0m \u001b[1;33m==\u001b[0m \u001b[1;34m\"python\"\u001b[0m\u001b[1;33m:\u001b[0m\u001b[1;33m\u001b[0m\u001b[1;33m\u001b[0m\u001b[0m\n",
      "\u001b[1;32mF:\\Anaconda\\envs\\deepl\\lib\\site-packages\\pandas\\io\\parsers.py\u001b[0m in \u001b[0;36m__init__\u001b[1;34m(self, src, **kwds)\u001b[0m\n\u001b[0;32m   2006\u001b[0m         \u001b[0mkwds\u001b[0m\u001b[1;33m[\u001b[0m\u001b[1;34m\"usecols\"\u001b[0m\u001b[1;33m]\u001b[0m \u001b[1;33m=\u001b[0m \u001b[0mself\u001b[0m\u001b[1;33m.\u001b[0m\u001b[0musecols\u001b[0m\u001b[1;33m\u001b[0m\u001b[1;33m\u001b[0m\u001b[0m\n\u001b[0;32m   2007\u001b[0m \u001b[1;33m\u001b[0m\u001b[0m\n\u001b[1;32m-> 2008\u001b[1;33m         \u001b[0mself\u001b[0m\u001b[1;33m.\u001b[0m\u001b[0m_reader\u001b[0m \u001b[1;33m=\u001b[0m \u001b[0mparsers\u001b[0m\u001b[1;33m.\u001b[0m\u001b[0mTextReader\u001b[0m\u001b[1;33m(\u001b[0m\u001b[0msrc\u001b[0m\u001b[1;33m,\u001b[0m \u001b[1;33m**\u001b[0m\u001b[0mkwds\u001b[0m\u001b[1;33m)\u001b[0m\u001b[1;33m\u001b[0m\u001b[1;33m\u001b[0m\u001b[0m\n\u001b[0m\u001b[0;32m   2009\u001b[0m         \u001b[0mself\u001b[0m\u001b[1;33m.\u001b[0m\u001b[0munnamed_cols\u001b[0m \u001b[1;33m=\u001b[0m \u001b[0mself\u001b[0m\u001b[1;33m.\u001b[0m\u001b[0m_reader\u001b[0m\u001b[1;33m.\u001b[0m\u001b[0munnamed_cols\u001b[0m\u001b[1;33m\u001b[0m\u001b[1;33m\u001b[0m\u001b[0m\n\u001b[0;32m   2010\u001b[0m \u001b[1;33m\u001b[0m\u001b[0m\n",
      "\u001b[1;32mpandas\\_libs\\parsers.pyx\u001b[0m in \u001b[0;36mpandas._libs.parsers.TextReader.__cinit__\u001b[1;34m()\u001b[0m\n",
      "\u001b[1;32mpandas\\_libs\\parsers.pyx\u001b[0m in \u001b[0;36mpandas._libs.parsers.TextReader._setup_parser_source\u001b[1;34m()\u001b[0m\n",
      "\u001b[1;31mFileNotFoundError\u001b[0m: [Errno 2] No such file or directory: './old-newspaper.tsv'"
     ]
    }
   ],
   "source": [
    "df =pd.read_csv('./old-newspaper.tsv',sep='\\t',error_bad_lines=False)"
   ]
  },
  {
   "cell_type": "code",
   "execution_count": 7,
   "metadata": {},
   "outputs": [],
   "source": [
    "languages = df['Language'].unique()"
   ]
  },
  {
   "cell_type": "code",
   "execution_count": 8,
   "metadata": {},
   "outputs": [
    {
     "data": {
      "text/plain": [
       "array(['Afrikaans', 'Albanian', 'Amharic', 'Arabic', 'Armenian',\n",
       "       'Azerbaijan', 'Bengali', 'Bosnian', 'Catalan',\n",
       "       'Chinese (Simplified)', 'Chinese (Traditional)', 'Croatian',\n",
       "       'Welsh', 'Czech', 'German', 'Danish', 'English', 'Spanish',\n",
       "       'Spanish (South America)', 'Finnish', 'French', 'Georgian',\n",
       "       'Galician', 'Greek', 'Hebrew', 'Hindi', 'Hungarian', 'Icelandic',\n",
       "       'Indonesian', 'Italian', 'Japanese', 'Khmer', 'Kannada', 'Korean',\n",
       "       'Kazakh', 'Lithuanian', 'Latvian', 'Macedonian', 'Malayalam',\n",
       "       'Mongolian', 'Malay', 'Nepali', 'Dutch', 'Norwegian (Bokmal)',\n",
       "       'Punjabi', 'Farsi', 'Polish', 'Portuguese (Brazil)',\n",
       "       'Portuguese (EU)', 'Romanian', 'Russian', 'Serbian', 'Sinhalese',\n",
       "       'Slovak', 'Slovenian', 'Swahili', 'Swedish', 'Tamil', 'Telugu',\n",
       "       'Tagalog', 'Thai', 'Turkish', 'Ukranian', 'Urdu', 'Uzbek',\n",
       "       'Vietnamese'], dtype=object)"
      ]
     },
     "execution_count": 8,
     "metadata": {},
     "output_type": "execute_result"
    }
   ],
   "source": [
    "languages"
   ]
  },
  {
   "cell_type": "code",
   "execution_count": 9,
   "metadata": {},
   "outputs": [
    {
     "data": {
      "text/html": [
       "<div>\n",
       "<style scoped>\n",
       "    .dataframe tbody tr th:only-of-type {\n",
       "        vertical-align: middle;\n",
       "    }\n",
       "\n",
       "    .dataframe tbody tr th {\n",
       "        vertical-align: top;\n",
       "    }\n",
       "\n",
       "    .dataframe thead th {\n",
       "        text-align: right;\n",
       "    }\n",
       "</style>\n",
       "<table border=\"1\" class=\"dataframe\">\n",
       "  <thead>\n",
       "    <tr style=\"text-align: right;\">\n",
       "      <th></th>\n",
       "      <th>Language</th>\n",
       "      <th>Source</th>\n",
       "      <th>Date</th>\n",
       "      <th>Text</th>\n",
       "    </tr>\n",
       "  </thead>\n",
       "  <tbody>\n",
       "    <tr>\n",
       "      <th>0</th>\n",
       "      <td>Afrikaans</td>\n",
       "      <td>republikein.com.na</td>\n",
       "      <td>2011/09/14</td>\n",
       "      <td>Die veranderinge aan die Britsgeboude Avensis ...</td>\n",
       "    </tr>\n",
       "    <tr>\n",
       "      <th>1</th>\n",
       "      <td>Afrikaans</td>\n",
       "      <td>republikein.com.na</td>\n",
       "      <td>2011/01/20</td>\n",
       "      <td>Duitsland se mans- en vrouespanne is die afgel...</td>\n",
       "    </tr>\n",
       "    <tr>\n",
       "      <th>2</th>\n",
       "      <td>Afrikaans</td>\n",
       "      <td>sake24.com</td>\n",
       "      <td>2009/11/28</td>\n",
       "      <td>Mnr. Estienne de Klerk, uitvoerende direkteur ...</td>\n",
       "    </tr>\n",
       "    <tr>\n",
       "      <th>3</th>\n",
       "      <td>Afrikaans</td>\n",
       "      <td>sake24.com</td>\n",
       "      <td>2009/11/12</td>\n",
       "      <td>Mustek is se finansiële-resultate-advertensie ...</td>\n",
       "    </tr>\n",
       "    <tr>\n",
       "      <th>4</th>\n",
       "      <td>Afrikaans</td>\n",
       "      <td>sake24.com</td>\n",
       "      <td>2011/02/04</td>\n",
       "      <td>nadat LMS se raad van trustees in Junie verled...</td>\n",
       "    </tr>\n",
       "    <tr>\n",
       "      <th>5</th>\n",
       "      <td>Afrikaans</td>\n",
       "      <td>praag.co.za</td>\n",
       "      <td>2011/06/09</td>\n",
       "      <td>Hierdie hersirkulering van kaders werk net so ...</td>\n",
       "    </tr>\n",
       "    <tr>\n",
       "      <th>6</th>\n",
       "      <td>Afrikaans</td>\n",
       "      <td>rapport.co.za</td>\n",
       "      <td>2011/07/15</td>\n",
       "      <td>Volgens ao. November Filander, polisiewoordvoe...</td>\n",
       "    </tr>\n",
       "    <tr>\n",
       "      <th>7</th>\n",
       "      <td>Afrikaans</td>\n",
       "      <td>republikein.com.na</td>\n",
       "      <td>2011/05/20</td>\n",
       "      <td>Die plant is besonder gehard en kan selfs uite...</td>\n",
       "    </tr>\n",
       "    <tr>\n",
       "      <th>8</th>\n",
       "      <td>Afrikaans</td>\n",
       "      <td>republikein.com.na</td>\n",
       "      <td>2011/10/19</td>\n",
       "      <td>Dit volg op twee vorige ekspos deur SMEs Compe...</td>\n",
       "    </tr>\n",
       "    <tr>\n",
       "      <th>9</th>\n",
       "      <td>Afrikaans</td>\n",
       "      <td>praag.co.za</td>\n",
       "      <td>2009/06/01</td>\n",
       "      <td>Daarom moet 'n Afrikanerafvaardiging so gou mo...</td>\n",
       "    </tr>\n",
       "  </tbody>\n",
       "</table>\n",
       "</div>"
      ],
      "text/plain": [
       "    Language              Source        Date  \\\n",
       "0  Afrikaans  republikein.com.na  2011/09/14   \n",
       "1  Afrikaans  republikein.com.na  2011/01/20   \n",
       "2  Afrikaans          sake24.com  2009/11/28   \n",
       "3  Afrikaans          sake24.com  2009/11/12   \n",
       "4  Afrikaans          sake24.com  2011/02/04   \n",
       "5  Afrikaans         praag.co.za  2011/06/09   \n",
       "6  Afrikaans       rapport.co.za  2011/07/15   \n",
       "7  Afrikaans  republikein.com.na  2011/05/20   \n",
       "8  Afrikaans  republikein.com.na  2011/10/19   \n",
       "9  Afrikaans         praag.co.za  2009/06/01   \n",
       "\n",
       "                                                Text  \n",
       "0  Die veranderinge aan die Britsgeboude Avensis ...  \n",
       "1  Duitsland se mans- en vrouespanne is die afgel...  \n",
       "2  Mnr. Estienne de Klerk, uitvoerende direkteur ...  \n",
       "3  Mustek is se finansiële-resultate-advertensie ...  \n",
       "4  nadat LMS se raad van trustees in Junie verled...  \n",
       "5  Hierdie hersirkulering van kaders werk net so ...  \n",
       "6  Volgens ao. November Filander, polisiewoordvoe...  \n",
       "7  Die plant is besonder gehard en kan selfs uite...  \n",
       "8  Dit volg op twee vorige ekspos deur SMEs Compe...  \n",
       "9  Daarom moet 'n Afrikanerafvaardiging so gou mo...  "
      ]
     },
     "execution_count": 9,
     "metadata": {},
     "output_type": "execute_result"
    }
   ],
   "source": [
    "df.head(10)"
   ]
  },
  {
   "cell_type": "code",
   "execution_count": 10,
   "metadata": {},
   "outputs": [],
   "source": [
    "spa = df.loc[df['Language'] == 'Spanish']"
   ]
  },
  {
   "cell_type": "code",
   "execution_count": 11,
   "metadata": {},
   "outputs": [
    {
     "data": {
      "text/html": [
       "<div>\n",
       "<style scoped>\n",
       "    .dataframe tbody tr th:only-of-type {\n",
       "        vertical-align: middle;\n",
       "    }\n",
       "\n",
       "    .dataframe tbody tr th {\n",
       "        vertical-align: top;\n",
       "    }\n",
       "\n",
       "    .dataframe thead th {\n",
       "        text-align: right;\n",
       "    }\n",
       "</style>\n",
       "<table border=\"1\" class=\"dataframe\">\n",
       "  <thead>\n",
       "    <tr style=\"text-align: right;\">\n",
       "      <th></th>\n",
       "      <th>Language</th>\n",
       "      <th>Source</th>\n",
       "      <th>Date</th>\n",
       "      <th>Text</th>\n",
       "    </tr>\n",
       "  </thead>\n",
       "  <tbody>\n",
       "    <tr>\n",
       "      <th>4961729</th>\n",
       "      <td>Spanish</td>\n",
       "      <td>UNKNOWN</td>\n",
       "      <td>UNKNOWN</td>\n",
       "      <td>En este sentido, señala que «no podemos consen...</td>\n",
       "    </tr>\n",
       "    <tr>\n",
       "      <th>4961730</th>\n",
       "      <td>Spanish</td>\n",
       "      <td>UNKNOWN</td>\n",
       "      <td>UNKNOWN</td>\n",
       "      <td>\"Cuando acabe la experiencia con el Inter no m...</td>\n",
       "    </tr>\n",
       "    <tr>\n",
       "      <th>4961731</th>\n",
       "      <td>Spanish</td>\n",
       "      <td>UNKNOWN</td>\n",
       "      <td>UNKNOWN</td>\n",
       "      <td>«Teniendo salud se aguanta todo», dice Nati Mi...</td>\n",
       "    </tr>\n",
       "    <tr>\n",
       "      <th>4961732</th>\n",
       "      <td>Spanish</td>\n",
       "      <td>UNKNOWN</td>\n",
       "      <td>UNKNOWN</td>\n",
       "      <td>'72 días': De Danilo &amp;ScaronerbedÅ¾ija. Croaci...</td>\n",
       "    </tr>\n",
       "    <tr>\n",
       "      <th>4961733</th>\n",
       "      <td>Spanish</td>\n",
       "      <td>UNKNOWN</td>\n",
       "      <td>UNKNOWN</td>\n",
       "      <td>La Administración norteamericana no ha dado aú...</td>\n",
       "    </tr>\n",
       "    <tr>\n",
       "      <th>4961734</th>\n",
       "      <td>Spanish</td>\n",
       "      <td>UNKNOWN</td>\n",
       "      <td>UNKNOWN</td>\n",
       "      <td>Tras ensalzar la figura de Arenas como ex mini...</td>\n",
       "    </tr>\n",
       "    <tr>\n",
       "      <th>4961735</th>\n",
       "      <td>Spanish</td>\n",
       "      <td>UNKNOWN</td>\n",
       "      <td>UNKNOWN</td>\n",
       "      <td>El doctor del área de Prehistoria de la UMU, L...</td>\n",
       "    </tr>\n",
       "    <tr>\n",
       "      <th>4961736</th>\n",
       "      <td>Spanish</td>\n",
       "      <td>UNKNOWN</td>\n",
       "      <td>UNKNOWN</td>\n",
       "      <td>La diputada provincial de Servicios Sociales, ...</td>\n",
       "    </tr>\n",
       "    <tr>\n",
       "      <th>4961737</th>\n",
       "      <td>Spanish</td>\n",
       "      <td>UNKNOWN</td>\n",
       "      <td>UNKNOWN</td>\n",
       "      <td>En este punto, la corte acepta las explicacion...</td>\n",
       "    </tr>\n",
       "    <tr>\n",
       "      <th>4961738</th>\n",
       "      <td>Spanish</td>\n",
       "      <td>UNKNOWN</td>\n",
       "      <td>UNKNOWN</td>\n",
       "      <td>En Santander, la cesión de los terrenos en man...</td>\n",
       "    </tr>\n",
       "  </tbody>\n",
       "</table>\n",
       "</div>"
      ],
      "text/plain": [
       "        Language   Source     Date  \\\n",
       "4961729  Spanish  UNKNOWN  UNKNOWN   \n",
       "4961730  Spanish  UNKNOWN  UNKNOWN   \n",
       "4961731  Spanish  UNKNOWN  UNKNOWN   \n",
       "4961732  Spanish  UNKNOWN  UNKNOWN   \n",
       "4961733  Spanish  UNKNOWN  UNKNOWN   \n",
       "4961734  Spanish  UNKNOWN  UNKNOWN   \n",
       "4961735  Spanish  UNKNOWN  UNKNOWN   \n",
       "4961736  Spanish  UNKNOWN  UNKNOWN   \n",
       "4961737  Spanish  UNKNOWN  UNKNOWN   \n",
       "4961738  Spanish  UNKNOWN  UNKNOWN   \n",
       "\n",
       "                                                      Text  \n",
       "4961729  En este sentido, señala que «no podemos consen...  \n",
       "4961730  \"Cuando acabe la experiencia con el Inter no m...  \n",
       "4961731  «Teniendo salud se aguanta todo», dice Nati Mi...  \n",
       "4961732  '72 días': De Danilo &ScaronerbedÅ¾ija. Croaci...  \n",
       "4961733  La Administración norteamericana no ha dado aú...  \n",
       "4961734  Tras ensalzar la figura de Arenas como ex mini...  \n",
       "4961735  El doctor del área de Prehistoria de la UMU, L...  \n",
       "4961736  La diputada provincial de Servicios Sociales, ...  \n",
       "4961737  En este punto, la corte acepta las explicacion...  \n",
       "4961738  En Santander, la cesión de los terrenos en man...  "
      ]
     },
     "execution_count": 11,
     "metadata": {},
     "output_type": "execute_result"
    }
   ],
   "source": [
    "spa.head(10)"
   ]
  },
  {
   "cell_type": "code",
   "execution_count": 20,
   "metadata": {},
   "outputs": [],
   "source": [
    "spa.to_csv('./es_news.csv',sep=',')"
   ]
  },
  {
   "cell_type": "code",
   "execution_count": 13,
   "metadata": {},
   "outputs": [
    {
     "data": {
      "text/plain": [
       "Language    309918\n",
       "Source      309918\n",
       "Date        309918\n",
       "Text        309918\n",
       "dtype: int64"
      ]
     },
     "execution_count": 13,
     "metadata": {},
     "output_type": "execute_result"
    }
   ],
   "source": [
    "spa.count()"
   ]
  },
  {
   "cell_type": "code",
   "execution_count": 18,
   "metadata": {},
   "outputs": [
    {
     "data": {
      "text/plain": [
       "4961729    En este sentido, señala que «no podemos consen...\n",
       "4961730    \"Cuando acabe la experiencia con el Inter no m...\n",
       "4961731    «Teniendo salud se aguanta todo», dice Nati Mi...\n",
       "4961732    '72 días': De Danilo &ScaronerbedÅ¾ija. Croaci...\n",
       "4961733    La Administración norteamericana no ha dado aú...\n",
       "4961734    Tras ensalzar la figura de Arenas como ex mini...\n",
       "4961735    El doctor del área de Prehistoria de la UMU, L...\n",
       "4961736    La diputada provincial de Servicios Sociales, ...\n",
       "4961737    En este punto, la corte acepta las explicacion...\n",
       "4961738    En Santander, la cesión de los terrenos en man...\n",
       "Name: Text, dtype: object"
      ]
     },
     "execution_count": 18,
     "metadata": {},
     "output_type": "execute_result"
    }
   ],
   "source": [
    "spa.iloc[:10]['Text']"
   ]
  },
  {
   "cell_type": "code",
   "execution_count": 35,
   "metadata": {},
   "outputs": [],
   "source": [
    "l_text = max([i for i in spa['Text']], key=lambda x:len(x))\n",
    "m_text = min([i for i in spa['Text']], key=lambda x:len(x))"
   ]
  },
  {
   "cell_type": "code",
   "execution_count": 36,
   "metadata": {},
   "outputs": [
    {
     "data": {
      "text/plain": [
       "'5'"
      ]
     },
     "execution_count": 36,
     "metadata": {},
     "output_type": "execute_result"
    }
   ],
   "source": [
    "m_text"
   ]
  },
  {
   "cell_type": "code",
   "execution_count": 37,
   "metadata": {},
   "outputs": [
    {
     "data": {
      "text/plain": [
       "'Cada cierto tiempo, las galerías y críticos de arte, al quite de las modas, parece que tienen que saltar con la muerte de algún género artístico, para resaltar su adhesión a la modernidad más absoluta. Si en la literatura se predijo la decadencia de la novela o la poesía, géneros que prevalecen, con mayor fuerza si cabe, a pesar de los augurios como expresiones genuinas de la contemporaneidad, ahora, desde hace algunas décadas, en el ámbito de las artes plásticas le ha tocado a la pintura. Sobre todo en España, donde la mayoría de las galerías ya no tienen sitio para ella en sus exposiciones o en las ferias. Esta, llamémosle regla, responde a ciertas estrategias o posturas de algún sector de la crítica que también busca su seña de identidad, su distinción con respecto a otras generaciones de críticos anteriores. Una decisión que ha creado o es también reflejo de la fractura entre los artistas que quieren seguir expresándose en esta técnica, con todo lo que implica de conocimiento y transgresión de una tradición transmitida desde el pasado, y los que han renunciado a esta práctica. Esto que de alguna manera es también producto de la globalización proviene de los centros de arte de Europa y América. Sin embargo, la declaración que hace un conocido galerista alemán nos pone en el centro de la polémica: «Para los artistas de hoy en día, creo que lo más desafiante es ser pintor y crear un nuevo lenguaje de la pintura» (Max Hetzler, Berlín). Una afirmación que viene a demostrar que la idea de que la pintura hoy día carece de sentido como expresión artística es sólo una afirmación gratuita. No obstante esta expresión que a algunos puede parecer un tanto insólita, la de reclamar la pintura como arma de creación, lleva consigo una carga muy importante que hunde sus raíces en la comprensión del arte contemporáneo: la validez de las llamadas técnicas tradicionales del arte, pintura sí, pintura ya no, qué es la escultura, . Las tendencias actuales se enmarcan en las posibilidades que las nuevas tecnologías han aportado a los artistas. El vídeo, la fotografía, la instalación, la mezcla de lenguajes y disciplinas, hoy son la punta de lanza de las nuevas generaciones de artistas. El apoyo al arte más experimental e innovador es algo que nos ha costado mucho en este país, esto no se puede menospreciar, pero no podemos entrar en el análisis de las vías contemporáneas de expresión sin debate, sin contemplar la urgencia que reclaman los artistas desde diferentes ámbitos y concepciones, y la pintura como la poesía sigue siendo la más inmediata expresión del individuo. Pero la \"modernidad\" parece haber establecido sus armas desde la óptica de la virtualidad o, en la concepción espacial, desde el desarrollo de estas técnicas informáticas. Por ello, no es de extrañar que desde este punto de vista, las artes tradicionales, sobre todo la pintura, estén en decadencia. Parece agotado el concebir una obra desde el estudio del natural, o a partir de las enseñanzas recibidas en las antiguas escuelas de Bellas Artes. Una nueva generación de profesores de las facultades españolas ha hecho desaparecer prácticamente de los planes de estudios casi toda referencia a las técnicas consideradas tradicionales. Toda una instrucción, que por su complejidad y por su aparente desconexión con los lenguajes más mediáticos, entorpecía la conexión con un público actual. Es evidente que las nuevas tecnologías, el photoshop, y otras técnicas audiovisuales sí contestan a las preguntas claves del arte y su relación con la sociedad actual, con mayor facilidad que la anticuada pintura. Sin embargo, la fotografía, la vieja fotografía, reivindica hoy un protagonismo impensable en los años sesenta; en la actualidad su percepción ante el público ha cambiado. La imagen fotográfica es capaz de definir espacios con la inmediatez ya conocida. El clic del fotógrafo ha abierto muchos caminos a la invención y la mirada de nuevos presupuestos artísticos. Sus imágenes son admitidas por el público, antes tan poco receptivo a este tipo de práctica. Qué duda cabe que el vídeo, accesible a todo tipo de público, por su fácil manejo y edición, es otro de los referentes de la nueva creación plástica. Su mirada más parecida a la de los medios con los que hoy convivimos se ha convertido en un instrumento de producción que han asumido muchos artistas de toda edad.'"
      ]
     },
     "execution_count": 37,
     "metadata": {},
     "output_type": "execute_result"
    }
   ],
   "source": [
    "l_text"
   ]
  },
  {
   "cell_type": "code",
   "execution_count": 48,
   "metadata": {},
   "outputs": [
    {
     "name": "stdout",
     "output_type": "stream",
     "text": [
      "309918\n"
     ]
    }
   ],
   "source": [
    "Text = [ t for t in spa['Text']]\n",
    "print(len(Text))"
   ]
  },
  {
   "cell_type": "code",
   "execution_count": 51,
   "metadata": {},
   "outputs": [],
   "source": [
    "def lam(x):\n",
    "    return len(x)>10\n",
    "newText = list(filter(lam, Text))"
   ]
  },
  {
   "cell_type": "code",
   "execution_count": 52,
   "metadata": {},
   "outputs": [
    {
     "name": "stdout",
     "output_type": "stream",
     "text": [
      "308608\n"
     ]
    }
   ],
   "source": [
    "print(len(newText))"
   ]
  },
  {
   "cell_type": "code",
   "execution_count": null,
   "metadata": {},
   "outputs": [],
   "source": []
  }
 ],
 "metadata": {
  "kernelspec": {
   "display_name": "Python 3",
   "language": "python",
   "name": "python3"
  },
  "language_info": {
   "codemirror_mode": {
    "name": "ipython",
    "version": 3
   },
   "file_extension": ".py",
   "mimetype": "text/x-python",
   "name": "python",
   "nbconvert_exporter": "python",
   "pygments_lexer": "ipython3",
   "version": "3.7.10"
  }
 },
 "nbformat": 4,
 "nbformat_minor": 4
}
