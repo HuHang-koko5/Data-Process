{
 "cells": [
  {
   "cell_type": "code",
   "execution_count": 30,
   "metadata": {},
   "outputs": [],
   "source": [
    "import pandas\n",
    "import json\n",
    "import string"
   ]
  },
  {
   "cell_type": "code",
   "execution_count": 12,
   "metadata": {},
   "outputs": [
    {
     "data": {
      "text/html": [
       "<div>\n",
       "<style scoped>\n",
       "    .dataframe tbody tr th:only-of-type {\n",
       "        vertical-align: middle;\n",
       "    }\n",
       "\n",
       "    .dataframe tbody tr th {\n",
       "        vertical-align: top;\n",
       "    }\n",
       "\n",
       "    .dataframe thead th {\n",
       "        text-align: right;\n",
       "    }\n",
       "</style>\n",
       "<table border=\"1\" class=\"dataframe\">\n",
       "  <thead>\n",
       "    <tr style=\"text-align: right;\">\n",
       "      <th></th>\n",
       "      <th>category</th>\n",
       "      <th>headline</th>\n",
       "      <th>description</th>\n",
       "    </tr>\n",
       "  </thead>\n",
       "  <tbody>\n",
       "    <tr>\n",
       "      <th>0</th>\n",
       "      <td>CRIME</td>\n",
       "      <td>Hubo 2 disparos en masa en Texas la semana pas...</td>\n",
       "      <td>Dejó a su marido, él mató a sus hijos, sólo ot...</td>\n",
       "    </tr>\n",
       "    <tr>\n",
       "      <th>1</th>\n",
       "      <td>ENTERTAINMENT</td>\n",
       "      <td>Hugh Grant se casa por primera vez a la edad d...</td>\n",
       "      <td>El actor y su larga novia Anna Eberstein ataro...</td>\n",
       "    </tr>\n",
       "    <tr>\n",
       "      <th>2</th>\n",
       "      <td>ENTERTAINMENT</td>\n",
       "      <td>Jim Carrey explosiona \"Castrato\" Adam Schiff y...</td>\n",
       "      <td>El actor le da un golpe en el culo a Dems por ...</td>\n",
       "    </tr>\n",
       "    <tr>\n",
       "      <th>3</th>\n",
       "      <td>ENTERTAINMENT</td>\n",
       "      <td>Julianna Margulies utiliza Donald Trump Poop b...</td>\n",
       "      <td>La actriz \"Dietland\" dijo que usar las bolsas ...</td>\n",
       "    </tr>\n",
       "    <tr>\n",
       "      <th>4</th>\n",
       "      <td>ENTERTAINMENT</td>\n",
       "      <td>Morgan Freeman \"desafirmó\" que las alegaciones...</td>\n",
       "      <td>\"No está bien equiparar incidentes horribles d...</td>\n",
       "    </tr>\n",
       "    <tr>\n",
       "      <th>5</th>\n",
       "      <td>ENTERTAINMENT</td>\n",
       "      <td>Mike Myers revela que le gustaría hacer una cu...</td>\n",
       "      <td>Los hijos de Myer pueden estar presionando par...</td>\n",
       "    </tr>\n",
       "    <tr>\n",
       "      <th>6</th>\n",
       "      <td>ENTERTAINMENT</td>\n",
       "      <td>Justin Timberlake visita a las víctimas de tir...</td>\n",
       "      <td>El pop star también llevaba una camisa \"Santa ...</td>\n",
       "    </tr>\n",
       "    <tr>\n",
       "      <th>7</th>\n",
       "      <td>WORLD NEWS</td>\n",
       "      <td>El presidente surcoreano se reúne con Kim Jong...</td>\n",
       "      <td>Los dos se reunieron para allanar el camino pa...</td>\n",
       "    </tr>\n",
       "    <tr>\n",
       "      <th>8</th>\n",
       "      <td>POLITICS</td>\n",
       "      <td>La represión de Trump contra los padres inmigr...</td>\n",
       "      <td>El mes pasado, un funcionario de Salud y Servi...</td>\n",
       "    </tr>\n",
       "    <tr>\n",
       "      <th>9</th>\n",
       "      <td>POLITICS</td>\n",
       "      <td>\"El hijo de Trump debería preocuparse\": el FBI...</td>\n",
       "      <td>Las escuchas telefónicas incluyen conversacion...</td>\n",
       "    </tr>\n",
       "  </tbody>\n",
       "</table>\n",
       "</div>"
      ],
      "text/plain": [
       "        category                                           headline  \\\n",
       "0          CRIME  Hubo 2 disparos en masa en Texas la semana pas...   \n",
       "1  ENTERTAINMENT  Hugh Grant se casa por primera vez a la edad d...   \n",
       "2  ENTERTAINMENT  Jim Carrey explosiona \"Castrato\" Adam Schiff y...   \n",
       "3  ENTERTAINMENT  Julianna Margulies utiliza Donald Trump Poop b...   \n",
       "4  ENTERTAINMENT  Morgan Freeman \"desafirmó\" que las alegaciones...   \n",
       "5  ENTERTAINMENT  Mike Myers revela que le gustaría hacer una cu...   \n",
       "6  ENTERTAINMENT  Justin Timberlake visita a las víctimas de tir...   \n",
       "7     WORLD NEWS  El presidente surcoreano se reúne con Kim Jong...   \n",
       "8       POLITICS  La represión de Trump contra los padres inmigr...   \n",
       "9       POLITICS  \"El hijo de Trump debería preocuparse\": el FBI...   \n",
       "\n",
       "                                         description  \n",
       "0  Dejó a su marido, él mató a sus hijos, sólo ot...  \n",
       "1  El actor y su larga novia Anna Eberstein ataro...  \n",
       "2  El actor le da un golpe en el culo a Dems por ...  \n",
       "3  La actriz \"Dietland\" dijo que usar las bolsas ...  \n",
       "4  \"No está bien equiparar incidentes horribles d...  \n",
       "5  Los hijos de Myer pueden estar presionando par...  \n",
       "6  El pop star también llevaba una camisa \"Santa ...  \n",
       "7  Los dos se reunieron para allanar el camino pa...  \n",
       "8  El mes pasado, un funcionario de Salud y Servi...  \n",
       "9  Las escuchas telefónicas incluyen conversacion...  "
      ]
     },
     "execution_count": 12,
     "metadata": {},
     "output_type": "execute_result"
    }
   ],
   "source": [
    "path = '../data/cleaned_es_data.json'\n",
    "df = pandas.read_json(path)\n",
    "df.head(10)"
   ]
  },
  {
   "cell_type": "code",
   "execution_count": 83,
   "metadata": {},
   "outputs": [
    {
     "data": {
      "text/plain": [
       "['Hubo 2 disparos en masa en Texas la semana pasada, pero sólo 1 en la televisión. Dejó a su marido, él mató a sus hijos, sólo otro día en América.',\n",
       " 'Hugh Grant se casa por primera vez a la edad de 57 años. El actor y su larga novia Anna Eberstein ataron el nudo en una ceremonia civil.',\n",
       " 'Jim Carrey explosiona \"Castrato\" Adam Schiff y los demócratas en una nueva obra de arte. El actor le da un golpe en el culo a Dems por no luchar lo suficientemente duro contra Donald Trump.',\n",
       " 'Julianna Margulies utiliza Donald Trump Poop bolsas para recoger después de su perro. La actriz \"Dietland\" dijo que usar las bolsas es un \"momento realmente catártico y terapéutico\".',\n",
       " 'Morgan Freeman \"desafirmó\" que las alegaciones de acoso sexual podrían socavar el legado. \"No está bien equiparar incidentes horribles de agresión sexual con cumplidos o humor extraviados\", dijo en una declaración.',\n",
       " 'Mike Myers revela que le gustaría hacer una cuarta película de Austin Powers. Los hijos de Myer pueden estar presionando para una nueva película de \"Powers\" más que nadie.',\n",
       " 'Justin Timberlake visita a las víctimas de tiroteo de la escuela de Texas. El pop star también llevaba una camisa \"Santa Fe Strong\" en su show en Houston.',\n",
       " 'El presidente surcoreano se reúne con Kim Jong Un de Corea del Norte para hablar de la Cumbre de Trump. Los dos se reunieron para allanar el camino para una cumbre entre Corea del Norte y Estados Unidos.',\n",
       " 'La represión de Trump contra los padres inmigrantes pone a más niños en un sistema ya tenso. El mes pasado, un funcionario de Salud y Servicios Humanos reveló que el Gobierno no pudo localizar a cerca de 1.500 niños que habían sido liberados de su custodia.',\n",
       " '\"El hijo de Trump debería preocuparse\": el FBI obtuvo cables de Putin Ally que conoció a Trump Jr. Las escuchas telefónicas incluyen conversaciones entre Alexander Torshin y Alexander Romanov, un lavado de dinero ruso condenado.']"
      ]
     },
     "execution_count": 83,
     "metadata": {},
     "output_type": "execute_result"
    }
   ],
   "source": [
    "headline = list(df['headline'])\n",
    "content = list(df['description'])\n",
    "texts = []\n",
    "for h,c in zip(headline,content):\n",
    "    if h[-1]!='.':\n",
    "        texts.append(h + '. ' + c)\n",
    "    else:\n",
    "        texts.append(h + ' ' + c)\n",
    "texts[:10]"
   ]
  },
  {
   "cell_type": "code",
   "execution_count": 84,
   "metadata": {},
   "outputs": [],
   "source": [
    "# remove punctuation \n",
    "def RemovePunctuation(texts):\n",
    "    res = []\n",
    "    for t in texts:\n",
    "        # tt = t.translate(str.maketrans('','',string.punctuation))\n",
    "        res.append(t.translate(str.maketrans('','',string.punctuation)))\n",
    "    return res"
   ]
  },
  {
   "cell_type": "code",
   "execution_count": 97,
   "metadata": {},
   "outputs": [
    {
     "name": "stdout",
     "output_type": "stream",
     "text": [
      "128850\n"
     ]
    }
   ],
   "source": [
    "texts = RemovePunctuation(texts)\n",
    "texts[:10]\n",
    "print(len(texts))"
   ]
  },
  {
   "cell_type": "code",
   "execution_count": 103,
   "metadata": {},
   "outputs": [],
   "source": [
    "# get words frequence\n",
    "def WordFreq(texts):\n",
    "    '''\n",
    "    wordSet = set()\n",
    "    for t in texts:\n",
    "        wordSet |= set(t.split(' '))\n",
    "    freq = {}\n",
    "    for key in wordSet:\n",
    "        if not key.isnumeric() :\n",
    "            freq[key] = 0\n",
    "    '''\n",
    "    freq = {}\n",
    "    for t in texts:\n",
    "        for word in t.split(' '):\n",
    "            if not word.isnumeric():\n",
    "                if word in freq.keys():\n",
    "                    freq[word] += 1 \n",
    "                else:\n",
    "                    freq[word] = 1\n",
    "    return freq"
   ]
  },
  {
   "cell_type": "code",
   "execution_count": 106,
   "metadata": {},
   "outputs": [
    {
     "data": {
      "text/plain": [
       "132242"
      ]
     },
     "execution_count": 106,
     "metadata": {},
     "output_type": "execute_result"
    }
   ],
   "source": [
    "freq = WordFreq(texts)"
   ]
  },
  {
   "cell_type": "code",
   "execution_count": 110,
   "metadata": {},
   "outputs": [
    {
     "data": {
      "text/plain": [
       "72023"
      ]
     },
     "execution_count": 110,
     "metadata": {},
     "output_type": "execute_result"
    }
   ],
   "source": [
    "# count freq>1 words\n",
    "count = 0\n",
    "for i in freq.keys():\n",
    "    if freq[i] > 1:\n",
    "        count += 1\n",
    "count"
   ]
  },
  {
   "cell_type": "code",
   "execution_count": 47,
   "metadata": {},
   "outputs": [
    {
     "data": {
      "text/plain": [
       "{'El hijo de Trump debería preocuparse el FBI obtuvo cables de Putin Ally que conoció a Trump Jr Las escuchas telefónicas incluyen conversaciones entre Alexander Torshin y Alexander Romanov un lavado de dinero ruso condenado',\n",
       " 'El presidente surcoreano se reúne con Kim Jong Un de Corea del Norte para hablar de la Cumbre de Trump Los dos se reunieron para allanar el camino para una cumbre entre Corea del Norte y Estados Unidos',\n",
       " 'Hubo 2 disparos en masa en Texas la semana pasada pero sólo 1 en la televisión Dejó a su marido él mató a sus hijos sólo otro día en América',\n",
       " 'Hugh Grant se casa por primera vez a la edad de 57 años El actor y su larga novia Anna Eberstein ataron el nudo en una ceremonia civil',\n",
       " 'Jim Carrey explosiona Castrato Adam Schiff y los demócratas en una nueva obra de arte El actor le da un golpe en el culo a Dems por no luchar lo suficientemente duro contra Donald Trump',\n",
       " 'Julianna Margulies utiliza Donald Trump Poop bolsas para recoger después de su perro La actriz Dietland dijo que usar las bolsas es un momento realmente catártico y terapéutico',\n",
       " 'Justin Timberlake visita a las víctimas de tiroteo de la escuela de Texas El pop star también llevaba una camisa Santa Fe Strong en su show en Houston',\n",
       " 'La represión de Trump contra los padres inmigrantes pone a más niños en un sistema ya tenso El mes pasado un funcionario de Salud y Servicios Humanos reveló que el Gobierno no pudo localizar a cerca de 1500 niños que habían sido liberados de su custodia',\n",
       " 'Mike Myers revela que le gustaría hacer una cuarta película de Austin Powers Los hijos de Myer pueden estar presionando para una nueva película de Powers más que nadie',\n",
       " 'Morgan Freeman desafirmó que las alegaciones de acoso sexual podrían socavar el legado No está bien equiparar incidentes horribles de agresión sexual con cumplidos o humor extraviados dijo en una declaración'}"
      ]
     },
     "execution_count": 47,
     "metadata": {},
     "output_type": "execute_result"
    }
   ],
   "source": [
    "wordset = set(texts)\n",
    "wordset"
   ]
  },
  {
   "cell_type": "code",
   "execution_count": null,
   "metadata": {},
   "outputs": [],
   "source": []
  }
 ],
 "metadata": {
  "kernelspec": {
   "display_name": "Python 3",
   "language": "python",
   "name": "python3"
  },
  "language_info": {
   "codemirror_mode": {
    "name": "ipython",
    "version": 3
   },
   "file_extension": ".py",
   "mimetype": "text/x-python",
   "name": "python",
   "nbconvert_exporter": "python",
   "pygments_lexer": "ipython3",
   "version": "3.7.9"
  }
 },
 "nbformat": 4,
 "nbformat_minor": 5
}
