{
 "cells": [
  {
   "cell_type": "markdown",
   "metadata": {},
   "source": [
    "### Use seq2seq model"
   ]
  },
  {
   "cell_type": "markdown",
   "metadata": {},
   "source": [
    "Demo"
   ]
  },
  {
   "cell_type": "code",
   "execution_count": 1,
   "metadata": {},
   "outputs": [],
   "source": [
    "from transformers import AutoModelForSeq2SeqLM, AutoTokenizer"
   ]
  },
  {
   "cell_type": "code",
   "execution_count": 2,
   "metadata": {},
   "outputs": [],
   "source": [
    "model = AutoModelForSeq2SeqLM.from_pretrained('Helsinki-NLP/opus-mt-en-ROMANCE',return_dict=True)"
   ]
  },
  {
   "cell_type": "code",
   "execution_count": 3,
   "metadata": {},
   "outputs": [],
   "source": [
    "tokenizer = AutoTokenizer.from_pretrained('Helsinki-NLP/opus-mt-en-ROMANCE')"
   ]
  },
  {
   "cell_type": "code",
   "execution_count": 4,
   "metadata": {},
   "outputs": [],
   "source": [
    "content = 'This is a pen'"
   ]
  },
  {
   "cell_type": "code",
   "execution_count": 5,
   "metadata": {},
   "outputs": [],
   "source": [
    "inputs = tokenizer.encode( '>>es<< ' + content,return_tensors='pt')\n",
    "outputs = model.generate(inputs,max_length=100,num_beams=4,early_stopping=True)"
   ]
  },
  {
   "cell_type": "code",
   "execution_count": 6,
   "metadata": {},
   "outputs": [
    {
     "name": "stdout",
     "output_type": "stream",
     "text": [
      "Esto es un bolígrafo\n"
     ]
    }
   ],
   "source": [
    "print(tokenizer.decode(outputs[0], skip_special_tokens=True))"
   ]
  },
  {
   "cell_type": "markdown",
   "metadata": {},
   "source": [
    "---------------------------------------"
   ]
  },
  {
   "cell_type": "code",
   "execution_count": 1,
   "metadata": {},
   "outputs": [],
   "source": [
    "import pandas as pd"
   ]
  },
  {
   "cell_type": "code",
   "execution_count": 2,
   "metadata": {},
   "outputs": [],
   "source": [
    "df = pd.read_json('../augmented_labeled_news.json')"
   ]
  },
  {
   "cell_type": "code",
   "execution_count": 3,
   "metadata": {
    "scrolled": true
   },
   "outputs": [
    {
     "data": {
      "text/html": [
       "<div>\n",
       "<style scoped>\n",
       "    .dataframe tbody tr th:only-of-type {\n",
       "        vertical-align: middle;\n",
       "    }\n",
       "\n",
       "    .dataframe tbody tr th {\n",
       "        vertical-align: top;\n",
       "    }\n",
       "\n",
       "    .dataframe thead th {\n",
       "        text-align: right;\n",
       "    }\n",
       "</style>\n",
       "<table border=\"1\" class=\"dataframe\">\n",
       "  <thead>\n",
       "    <tr style=\"text-align: right;\">\n",
       "      <th></th>\n",
       "      <th>category</th>\n",
       "      <th>head</th>\n",
       "      <th>content</th>\n",
       "    </tr>\n",
       "  </thead>\n",
       "  <tbody>\n",
       "    <tr>\n",
       "      <th>0</th>\n",
       "      <td>WEIRD NEWS</td>\n",
       "      <td>Animal Shelters edition Of The Bachelor Is Way...</td>\n",
       "      <td>There's fierce competition for the affection o...</td>\n",
       "    </tr>\n",
       "    <tr>\n",
       "      <th>1</th>\n",
       "      <td>FOOD &amp; DRINK</td>\n",
       "      <td>Mistakes You're Making With Fried Eggs (PHOTOS)</td>\n",
       "      <td>How can something that provides so much also c...</td>\n",
       "    </tr>\n",
       "    <tr>\n",
       "      <th>2</th>\n",
       "      <td>SPORTS</td>\n",
       "      <td>Are You Ready For Some L.A. Football?</td>\n",
       "      <td>hoosier state an era when cities are giving hu...</td>\n",
       "    </tr>\n",
       "    <tr>\n",
       "      <th>3</th>\n",
       "      <td>WEDDINGS</td>\n",
       "      <td>13 Reminders That This Really Is The Most Wond...</td>\n",
       "      <td>Theyre getting jennjennxo I asked from the top...</td>\n",
       "    </tr>\n",
       "    <tr>\n",
       "      <th>4</th>\n",
       "      <td>MISCELLANEOUS</td>\n",
       "      <td>Quick-Thinking 5-Year-Old Saves Blind Grandmot...</td>\n",
       "      <td>She told my mom to hold her shoulder and that ...</td>\n",
       "    </tr>\n",
       "  </tbody>\n",
       "</table>\n",
       "</div>"
      ],
      "text/plain": [
       "        category                                               head  \\\n",
       "0     WEIRD NEWS  Animal Shelters edition Of The Bachelor Is Way...   \n",
       "1   FOOD & DRINK    Mistakes You're Making With Fried Eggs (PHOTOS)   \n",
       "2         SPORTS              Are You Ready For Some L.A. Football?   \n",
       "3       WEDDINGS  13 Reminders That This Really Is The Most Wond...   \n",
       "4  MISCELLANEOUS  Quick-Thinking 5-Year-Old Saves Blind Grandmot...   \n",
       "\n",
       "                                             content  \n",
       "0  There's fierce competition for the affection o...  \n",
       "1  How can something that provides so much also c...  \n",
       "2  hoosier state an era when cities are giving hu...  \n",
       "3  Theyre getting jennjennxo I asked from the top...  \n",
       "4  She told my mom to hold her shoulder and that ...  "
      ]
     },
     "execution_count": 3,
     "metadata": {},
     "output_type": "execute_result"
    }
   ],
   "source": [
    "df[:5]"
   ]
  },
  {
   "cell_type": "code",
   "execution_count": 4,
   "metadata": {},
   "outputs": [],
   "source": [
    "en_head = df['head'].tolist()\n",
    "en_des = df['content'].tolist()"
   ]
  },
  {
   "cell_type": "code",
   "execution_count": 5,
   "metadata": {},
   "outputs": [],
   "source": [
    "from tqdm import tqdm\n",
    "from transformers import MarianMTModel,MarianTokenizer\n",
    "import torch"
   ]
  },
  {
   "cell_type": "code",
   "execution_count": 6,
   "metadata": {},
   "outputs": [],
   "source": [
    "model_name = 'Helsinki-NLP/opus-mt-en-ROMANCE'\n",
    "tokenizer = MarianTokenizer.from_pretrained(model_name)\n",
    "model = MarianMTModel.from_pretrained(model_name)\n",
    "model.to('cuda')\n",
    "seqlen = len(en_head)"
   ]
  },
  {
   "cell_type": "code",
   "execution_count": 10,
   "metadata": {},
   "outputs": [
    {
     "name": "stderr",
     "output_type": "stream",
     "text": [
      "100%|██████████| 28373/28373 [18:03:37<00:00,  2.29s/it]   \n"
     ]
    }
   ],
   "source": [
    "es_head = []\n",
    "es_des = []\n",
    "batch_size = 30\n",
    "for epoch in tqdm(range(seqlen//batch_size)):\n",
    "    hsrc = ['>>es<< ' + content for content in en_head[epoch*batch_size:min((epoch+1)*batch_size,seqlen)]]\n",
    "    dsrc = ['>>es<< ' + content for content in en_des[epoch*batch_size:min((epoch+1)*batch_size,seqlen)]]\n",
    "    h_input = tokenizer(hsrc,return_tensors=\"pt\",padding=True).to('cuda')\n",
    "    d_input = tokenizer(dsrc,return_tensors=\"pt\",padding=True).to('cuda')\n",
    "    h_translated = model.generate(**h_input)\n",
    "    h_translated.to('cpu')\n",
    "    h_tgt_text = [tokenizer.decode(t, skip_special_tokens=True) for t in h_translated]\n",
    "    \n",
    "    d_translated = model.generate(**d_input)\n",
    "    d_translated.to('cpu')\n",
    "    d_tgt_text = [tokenizer.decode(t, skip_special_tokens=True) for t in d_translated]\n",
    "    es_head += h_tgt_text\n",
    "    es_des += d_tgt_text\n",
    "    torch.cuda.empty_cache()"
   ]
  },
  {
   "cell_type": "code",
   "execution_count": 11,
   "metadata": {},
   "outputs": [
    {
     "name": "stdout",
     "output_type": "stream",
     "text": [
      "851190\n",
      "851194\n",
      "851190\n",
      "851190\n"
     ]
    }
   ],
   "source": [
    "print(len(es_des))\n",
    "print(len(en_head))\n",
    "print(len(es_head))\n",
    "labels = df['category'].tolist()[:-4]\n",
    "print(len(labels))"
   ]
  },
  {
   "cell_type": "code",
   "execution_count": 12,
   "metadata": {},
   "outputs": [],
   "source": [
    "\n",
    "es_df = {'category':labels,\n",
    "     'headline':es_head,\n",
    "     'description':es_des}\n",
    "edf = pd.DataFrame(data=es_df)\n",
    "edf.to_json('./augmented_es_data.json')"
   ]
  },
  {
   "cell_type": "code",
   "execution_count": 13,
   "metadata": {},
   "outputs": [],
   "source": [
    "esdf = pd.read_json('./augmented_es_data.json')"
   ]
  },
  {
   "cell_type": "code",
   "execution_count": 14,
   "metadata": {},
   "outputs": [
    {
     "data": {
      "text/html": [
       "<div>\n",
       "<style scoped>\n",
       "    .dataframe tbody tr th:only-of-type {\n",
       "        vertical-align: middle;\n",
       "    }\n",
       "\n",
       "    .dataframe tbody tr th {\n",
       "        vertical-align: top;\n",
       "    }\n",
       "\n",
       "    .dataframe thead th {\n",
       "        text-align: right;\n",
       "    }\n",
       "</style>\n",
       "<table border=\"1\" class=\"dataframe\">\n",
       "  <thead>\n",
       "    <tr style=\"text-align: right;\">\n",
       "      <th></th>\n",
       "      <th>category</th>\n",
       "      <th>headline</th>\n",
       "      <th>description</th>\n",
       "    </tr>\n",
       "  </thead>\n",
       "  <tbody>\n",
       "    <tr>\n",
       "      <th>0</th>\n",
       "      <td>WEIRD NEWS</td>\n",
       "      <td>Edición de refugios de animales de la licencia...</td>\n",
       "      <td>Hay una feroz competencia por el afecto de Ste...</td>\n",
       "    </tr>\n",
       "    <tr>\n",
       "      <th>1</th>\n",
       "      <td>FOOD &amp; DRINK</td>\n",
       "      <td>Errores que estás haciendo con huevos fritos (...</td>\n",
       "      <td>¿Cómo puede algo que proporciona tanto también...</td>\n",
       "    </tr>\n",
       "    <tr>\n",
       "      <th>2</th>\n",
       "      <td>SPORTS</td>\n",
       "      <td>¿Estás listo para un poco de fútbol de Los Áng...</td>\n",
       "      <td>una época en la que las ciudades están dando e...</td>\n",
       "    </tr>\n",
       "    <tr>\n",
       "      <th>3</th>\n",
       "      <td>WEDDINGS</td>\n",
       "      <td>13 Recuerdos de que esta es realmente la época...</td>\n",
       "      <td>Ellos están recibiendo Jennjennxo pedí desde e...</td>\n",
       "    </tr>\n",
       "    <tr>\n",
       "      <th>4</th>\n",
       "      <td>MISCELLANEOUS</td>\n",
       "      <td>Pensando rápido de 5 años de edad salva a la a...</td>\n",
       "      <td>Le dijo a mi mamá que sostuviera su hombro y q...</td>\n",
       "    </tr>\n",
       "    <tr>\n",
       "      <th>5</th>\n",
       "      <td>DIVORCE</td>\n",
       "      <td>Por qué los divorcios de celebridad también pu...</td>\n",
       "      <td>Cuando el ciberespacio me cuenta que Amy Poehl...</td>\n",
       "    </tr>\n",
       "    <tr>\n",
       "      <th>6</th>\n",
       "      <td>COMEDY</td>\n",
       "      <td>Una mirada a Bernie más suave Álbum de palabra...</td>\n",
       "      <td>Echa un vistazo a estos cutos profundos de Ber...</td>\n",
       "    </tr>\n",
       "    <tr>\n",
       "      <th>7</th>\n",
       "      <td>GROUPS VOICES</td>\n",
       "      <td>Donald Glover 'Esto es América', a través de l...</td>\n",
       "      <td>De vez en cuando un incidente racial o una exp...</td>\n",
       "    </tr>\n",
       "    <tr>\n",
       "      <th>8</th>\n",
       "      <td>FOOD &amp; DRINK</td>\n",
       "      <td>Un jamón de rhubarb de fresa para hacer que la...</td>\n",
       "      <td>Otra manera de celebrar el feliz matrimonio de...</td>\n",
       "    </tr>\n",
       "    <tr>\n",
       "      <th>9</th>\n",
       "      <td>WEIRD NEWS</td>\n",
       "      <td>El periodista de TV lo pierde mientras el loro...</td>\n",
       "      <td>\"No puedo quitármelo de encima, oh Dios mío, o...</td>\n",
       "    </tr>\n",
       "  </tbody>\n",
       "</table>\n",
       "</div>"
      ],
      "text/plain": [
       "        category                                           headline  \\\n",
       "0     WEIRD NEWS  Edición de refugios de animales de la licencia...   \n",
       "1   FOOD & DRINK  Errores que estás haciendo con huevos fritos (...   \n",
       "2         SPORTS  ¿Estás listo para un poco de fútbol de Los Áng...   \n",
       "3       WEDDINGS  13 Recuerdos de que esta es realmente la época...   \n",
       "4  MISCELLANEOUS  Pensando rápido de 5 años de edad salva a la a...   \n",
       "5        DIVORCE  Por qué los divorcios de celebridad también pu...   \n",
       "6         COMEDY  Una mirada a Bernie más suave Álbum de palabra...   \n",
       "7  GROUPS VOICES  Donald Glover 'Esto es América', a través de l...   \n",
       "8   FOOD & DRINK  Un jamón de rhubarb de fresa para hacer que la...   \n",
       "9     WEIRD NEWS  El periodista de TV lo pierde mientras el loro...   \n",
       "\n",
       "                                         description  \n",
       "0  Hay una feroz competencia por el afecto de Ste...  \n",
       "1  ¿Cómo puede algo que proporciona tanto también...  \n",
       "2  una época en la que las ciudades están dando e...  \n",
       "3  Ellos están recibiendo Jennjennxo pedí desde e...  \n",
       "4  Le dijo a mi mamá que sostuviera su hombro y q...  \n",
       "5  Cuando el ciberespacio me cuenta que Amy Poehl...  \n",
       "6  Echa un vistazo a estos cutos profundos de Ber...  \n",
       "7  De vez en cuando un incidente racial o una exp...  \n",
       "8  Otra manera de celebrar el feliz matrimonio de...  \n",
       "9  \"No puedo quitármelo de encima, oh Dios mío, o...  "
      ]
     },
     "execution_count": 14,
     "metadata": {},
     "output_type": "execute_result"
    }
   ],
   "source": [
    "esdf.head(10)"
   ]
  },
  {
   "cell_type": "code",
   "execution_count": null,
   "metadata": {},
   "outputs": [],
   "source": []
  }
 ],
 "metadata": {
  "kernelspec": {
   "display_name": "Python 3",
   "language": "python",
   "name": "python3"
  },
  "language_info": {
   "codemirror_mode": {
    "name": "ipython",
    "version": 3
   },
   "file_extension": ".py",
   "mimetype": "text/x-python",
   "name": "python",
   "nbconvert_exporter": "python",
   "pygments_lexer": "ipython3",
   "version": "3.7.9"
  }
 },
 "nbformat": 4,
 "nbformat_minor": 4
}
