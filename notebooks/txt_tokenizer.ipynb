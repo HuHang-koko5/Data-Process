{
 "cells": [
  {
   "cell_type": "markdown",
   "metadata": {},
   "source": [
    "### Create txt"
   ]
  },
  {
   "cell_type": "code",
   "execution_count": 1,
   "metadata": {},
   "outputs": [],
   "source": [
    "import pandas as pd"
   ]
  },
  {
   "cell_type": "code",
   "execution_count": 2,
   "metadata": {},
   "outputs": [],
   "source": [
    "path = \"./es_news.csv\""
   ]
  },
  {
   "cell_type": "code",
   "execution_count": 3,
   "metadata": {},
   "outputs": [],
   "source": [
    "df = pd.read_csv(path)"
   ]
  },
  {
   "cell_type": "code",
   "execution_count": 4,
   "metadata": {},
   "outputs": [
    {
     "data": {
      "text/html": [
       "<div>\n",
       "<style scoped>\n",
       "    .dataframe tbody tr th:only-of-type {\n",
       "        vertical-align: middle;\n",
       "    }\n",
       "\n",
       "    .dataframe tbody tr th {\n",
       "        vertical-align: top;\n",
       "    }\n",
       "\n",
       "    .dataframe thead th {\n",
       "        text-align: right;\n",
       "    }\n",
       "</style>\n",
       "<table border=\"1\" class=\"dataframe\">\n",
       "  <thead>\n",
       "    <tr style=\"text-align: right;\">\n",
       "      <th></th>\n",
       "      <th>Unnamed: 0</th>\n",
       "      <th>Language</th>\n",
       "      <th>Source</th>\n",
       "      <th>Date</th>\n",
       "      <th>Text</th>\n",
       "    </tr>\n",
       "  </thead>\n",
       "  <tbody>\n",
       "    <tr>\n",
       "      <th>0</th>\n",
       "      <td>4961729</td>\n",
       "      <td>Spanish</td>\n",
       "      <td>UNKNOWN</td>\n",
       "      <td>UNKNOWN</td>\n",
       "      <td>En este sentido, señala que «no podemos consen...</td>\n",
       "    </tr>\n",
       "    <tr>\n",
       "      <th>1</th>\n",
       "      <td>4961730</td>\n",
       "      <td>Spanish</td>\n",
       "      <td>UNKNOWN</td>\n",
       "      <td>UNKNOWN</td>\n",
       "      <td>\"Cuando acabe la experiencia con el Inter no m...</td>\n",
       "    </tr>\n",
       "    <tr>\n",
       "      <th>2</th>\n",
       "      <td>4961731</td>\n",
       "      <td>Spanish</td>\n",
       "      <td>UNKNOWN</td>\n",
       "      <td>UNKNOWN</td>\n",
       "      <td>«Teniendo salud se aguanta todo», dice Nati Mi...</td>\n",
       "    </tr>\n",
       "    <tr>\n",
       "      <th>3</th>\n",
       "      <td>4961732</td>\n",
       "      <td>Spanish</td>\n",
       "      <td>UNKNOWN</td>\n",
       "      <td>UNKNOWN</td>\n",
       "      <td>'72 días': De Danilo &amp;ScaronerbedÅ¾ija. Croaci...</td>\n",
       "    </tr>\n",
       "    <tr>\n",
       "      <th>4</th>\n",
       "      <td>4961733</td>\n",
       "      <td>Spanish</td>\n",
       "      <td>UNKNOWN</td>\n",
       "      <td>UNKNOWN</td>\n",
       "      <td>La Administración norteamericana no ha dado aú...</td>\n",
       "    </tr>\n",
       "    <tr>\n",
       "      <th>5</th>\n",
       "      <td>4961734</td>\n",
       "      <td>Spanish</td>\n",
       "      <td>UNKNOWN</td>\n",
       "      <td>UNKNOWN</td>\n",
       "      <td>Tras ensalzar la figura de Arenas como ex mini...</td>\n",
       "    </tr>\n",
       "    <tr>\n",
       "      <th>6</th>\n",
       "      <td>4961735</td>\n",
       "      <td>Spanish</td>\n",
       "      <td>UNKNOWN</td>\n",
       "      <td>UNKNOWN</td>\n",
       "      <td>El doctor del área de Prehistoria de la UMU, L...</td>\n",
       "    </tr>\n",
       "    <tr>\n",
       "      <th>7</th>\n",
       "      <td>4961736</td>\n",
       "      <td>Spanish</td>\n",
       "      <td>UNKNOWN</td>\n",
       "      <td>UNKNOWN</td>\n",
       "      <td>La diputada provincial de Servicios Sociales, ...</td>\n",
       "    </tr>\n",
       "    <tr>\n",
       "      <th>8</th>\n",
       "      <td>4961737</td>\n",
       "      <td>Spanish</td>\n",
       "      <td>UNKNOWN</td>\n",
       "      <td>UNKNOWN</td>\n",
       "      <td>En este punto, la corte acepta las explicacion...</td>\n",
       "    </tr>\n",
       "    <tr>\n",
       "      <th>9</th>\n",
       "      <td>4961738</td>\n",
       "      <td>Spanish</td>\n",
       "      <td>UNKNOWN</td>\n",
       "      <td>UNKNOWN</td>\n",
       "      <td>En Santander, la cesión de los terrenos en man...</td>\n",
       "    </tr>\n",
       "    <tr>\n",
       "      <th>10</th>\n",
       "      <td>4961739</td>\n",
       "      <td>Spanish</td>\n",
       "      <td>UNKNOWN</td>\n",
       "      <td>UNKNOWN</td>\n",
       "      <td>El Gobierno de Canarias le ha concedido la Med...</td>\n",
       "    </tr>\n",
       "    <tr>\n",
       "      <th>11</th>\n",
       "      <td>4961740</td>\n",
       "      <td>Spanish</td>\n",
       "      <td>UNKNOWN</td>\n",
       "      <td>UNKNOWN</td>\n",
       "      <td>Un australiano de 65 años fue acusado de condu...</td>\n",
       "    </tr>\n",
       "    <tr>\n",
       "      <th>12</th>\n",
       "      <td>4961741</td>\n",
       "      <td>Spanish</td>\n",
       "      <td>UNKNOWN</td>\n",
       "      <td>UNKNOWN</td>\n",
       "      <td>El informe del CVC, que se ha emitido a petici...</td>\n",
       "    </tr>\n",
       "    <tr>\n",
       "      <th>13</th>\n",
       "      <td>4961742</td>\n",
       "      <td>Spanish</td>\n",
       "      <td>UNKNOWN</td>\n",
       "      <td>UNKNOWN</td>\n",
       "      <td>encuestas de coyuntura. Esta opinión es confir...</td>\n",
       "    </tr>\n",
       "    <tr>\n",
       "      <th>14</th>\n",
       "      <td>4961743</td>\n",
       "      <td>Spanish</td>\n",
       "      <td>UNKNOWN</td>\n",
       "      <td>UNKNOWN</td>\n",
       "      <td>El público volvió a abarrotar el recinto unive...</td>\n",
       "    </tr>\n",
       "    <tr>\n",
       "      <th>15</th>\n",
       "      <td>4961744</td>\n",
       "      <td>Spanish</td>\n",
       "      <td>UNKNOWN</td>\n",
       "      <td>UNKNOWN</td>\n",
       "      <td>La detención de presunto autor de los hechos, ...</td>\n",
       "    </tr>\n",
       "    <tr>\n",
       "      <th>16</th>\n",
       "      <td>4961745</td>\n",
       "      <td>Spanish</td>\n",
       "      <td>UNKNOWN</td>\n",
       "      <td>UNKNOWN</td>\n",
       "      <td>En caso contrario se reconocería solo la condi...</td>\n",
       "    </tr>\n",
       "    <tr>\n",
       "      <th>17</th>\n",
       "      <td>4961746</td>\n",
       "      <td>Spanish</td>\n",
       "      <td>UNKNOWN</td>\n",
       "      <td>UNKNOWN</td>\n",
       "      <td>El sindicato anuncia que, en unidad con UGT, a...</td>\n",
       "    </tr>\n",
       "    <tr>\n",
       "      <th>18</th>\n",
       "      <td>4961747</td>\n",
       "      <td>Spanish</td>\n",
       "      <td>UNKNOWN</td>\n",
       "      <td>UNKNOWN</td>\n",
       "      <td>SANTIAGO MARTÍNEZ LAGE</td>\n",
       "    </tr>\n",
       "    <tr>\n",
       "      <th>19</th>\n",
       "      <td>4961748</td>\n",
       "      <td>Spanish</td>\n",
       "      <td>UNKNOWN</td>\n",
       "      <td>UNKNOWN</td>\n",
       "      <td>Curándose en salud, el Gobierno decidió incorp...</td>\n",
       "    </tr>\n",
       "  </tbody>\n",
       "</table>\n",
       "</div>"
      ],
      "text/plain": [
       "    Unnamed: 0 Language   Source     Date  \\\n",
       "0      4961729  Spanish  UNKNOWN  UNKNOWN   \n",
       "1      4961730  Spanish  UNKNOWN  UNKNOWN   \n",
       "2      4961731  Spanish  UNKNOWN  UNKNOWN   \n",
       "3      4961732  Spanish  UNKNOWN  UNKNOWN   \n",
       "4      4961733  Spanish  UNKNOWN  UNKNOWN   \n",
       "5      4961734  Spanish  UNKNOWN  UNKNOWN   \n",
       "6      4961735  Spanish  UNKNOWN  UNKNOWN   \n",
       "7      4961736  Spanish  UNKNOWN  UNKNOWN   \n",
       "8      4961737  Spanish  UNKNOWN  UNKNOWN   \n",
       "9      4961738  Spanish  UNKNOWN  UNKNOWN   \n",
       "10     4961739  Spanish  UNKNOWN  UNKNOWN   \n",
       "11     4961740  Spanish  UNKNOWN  UNKNOWN   \n",
       "12     4961741  Spanish  UNKNOWN  UNKNOWN   \n",
       "13     4961742  Spanish  UNKNOWN  UNKNOWN   \n",
       "14     4961743  Spanish  UNKNOWN  UNKNOWN   \n",
       "15     4961744  Spanish  UNKNOWN  UNKNOWN   \n",
       "16     4961745  Spanish  UNKNOWN  UNKNOWN   \n",
       "17     4961746  Spanish  UNKNOWN  UNKNOWN   \n",
       "18     4961747  Spanish  UNKNOWN  UNKNOWN   \n",
       "19     4961748  Spanish  UNKNOWN  UNKNOWN   \n",
       "\n",
       "                                                 Text  \n",
       "0   En este sentido, señala que «no podemos consen...  \n",
       "1   \"Cuando acabe la experiencia con el Inter no m...  \n",
       "2   «Teniendo salud se aguanta todo», dice Nati Mi...  \n",
       "3   '72 días': De Danilo &ScaronerbedÅ¾ija. Croaci...  \n",
       "4   La Administración norteamericana no ha dado aú...  \n",
       "5   Tras ensalzar la figura de Arenas como ex mini...  \n",
       "6   El doctor del área de Prehistoria de la UMU, L...  \n",
       "7   La diputada provincial de Servicios Sociales, ...  \n",
       "8   En este punto, la corte acepta las explicacion...  \n",
       "9   En Santander, la cesión de los terrenos en man...  \n",
       "10  El Gobierno de Canarias le ha concedido la Med...  \n",
       "11  Un australiano de 65 años fue acusado de condu...  \n",
       "12  El informe del CVC, que se ha emitido a petici...  \n",
       "13  encuestas de coyuntura. Esta opinión es confir...  \n",
       "14  El público volvió a abarrotar el recinto unive...  \n",
       "15  La detención de presunto autor de los hechos, ...  \n",
       "16  En caso contrario se reconocería solo la condi...  \n",
       "17  El sindicato anuncia que, en unidad con UGT, a...  \n",
       "18                             SANTIAGO MARTÍNEZ LAGE  \n",
       "19  Curándose en salud, el Gobierno decidió incorp...  "
      ]
     },
     "execution_count": 4,
     "metadata": {},
     "output_type": "execute_result"
    }
   ],
   "source": [
    "df.head(20)"
   ]
  },
  {
   "cell_type": "code",
   "execution_count": 5,
   "metadata": {},
   "outputs": [
    {
     "data": {
      "text/plain": [
       "0         En este sentido, señala que «no podemos consen...\n",
       "1         \"Cuando acabe la experiencia con el Inter no m...\n",
       "2         «Teniendo salud se aguanta todo», dice Nati Mi...\n",
       "3         '72 días': De Danilo &ScaronerbedÅ¾ija. Croaci...\n",
       "4         La Administración norteamericana no ha dado aú...\n",
       "                                ...                        \n",
       "309913    Pero la Ley de Enjuiciamiento Civil autoriza l...\n",
       "309914    ¿Qué tal si salieran a sorteo público, como lo...\n",
       "309915    «Queremos que los ciudadanos sean los vigilant...\n",
       "309916    Berodia es duda y descartado está Tomás, que a...\n",
       "309917    El Reino Unido cuenta con 9.500 efectivos en A...\n",
       "Name: Text, Length: 309918, dtype: object"
      ]
     },
     "execution_count": 5,
     "metadata": {},
     "output_type": "execute_result"
    }
   ],
   "source": [
    "df['Text']"
   ]
  },
  {
   "cell_type": "code",
   "execution_count": 9,
   "metadata": {},
   "outputs": [],
   "source": [
    "f = open('./sentence.txt','w',encoding='utf-8')\n",
    "f.writelines(df['Text'])\n",
    "f.close()"
   ]
  },
  {
   "cell_type": "markdown",
   "metadata": {},
   "source": [
    "### Train Tokenizer"
   ]
  },
  {
   "cell_type": "code",
   "execution_count": 1,
   "metadata": {},
   "outputs": [],
   "source": [
    "from tokenizers import ByteLevelBPETokenizer\n",
    "import os"
   ]
  },
  {
   "cell_type": "code",
   "execution_count": 2,
   "metadata": {},
   "outputs": [],
   "source": [
    "path = './sentence.txt'"
   ]
  },
  {
   "cell_type": "code",
   "execution_count": 3,
   "metadata": {},
   "outputs": [],
   "source": [
    "tkzer = ByteLevelBPETokenizer()\n",
    "tkzer.train(files=path,\n",
    "           vocab_size=50265,\n",
    "           min_frequency=2,\n",
    "           special_tokens=[\"<s>\",\"<pad>\",\"</s>\",\"<unk>\",\"<mask>\"])"
   ]
  },
  {
   "cell_type": "code",
   "execution_count": 4,
   "metadata": {},
   "outputs": [],
   "source": [
    "os.mkdir('./tkz')"
   ]
  },
  {
   "cell_type": "code",
   "execution_count": 8,
   "metadata": {},
   "outputs": [],
   "source": [
    "tkzer.save('./tkz/tokenizer-esnews.json')"
   ]
  }
 ],
 "metadata": {
  "kernelspec": {
   "display_name": "Python 3",
   "language": "python",
   "name": "python3"
  },
  "language_info": {
   "codemirror_mode": {
    "name": "ipython",
    "version": 3
   },
   "file_extension": ".py",
   "mimetype": "text/x-python",
   "name": "python",
   "nbconvert_exporter": "python",
   "pygments_lexer": "ipython3",
   "version": "3.7.9"
  }
 },
 "nbformat": 4,
 "nbformat_minor": 4
}
